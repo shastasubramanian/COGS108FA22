{
 "cells": [
  {
   "cell_type": "markdown",
   "metadata": {},
   "source": [
    "# COGS 108 - Bus Stop Accident Data Analysis Report\n",
    "\n",
    "Link to video: https://drive.google.com/file/d/1BFoZ_PsWVbSOdJ-Dsp_hDO2uITdmB-z4/view?usp=sharing"
   ]
  },
  {
   "cell_type": "markdown",
   "metadata": {},
   "source": [
    "## Permissions\n",
    "\n",
    "Place an `X` in the appropriate bracket below to specify if you would like your group's project to be made available to the public. (Note that student names will be included (but PIDs will be scraped from any groups who include their PIDs).\n",
    "\n",
    "* [ <b>X</b> ] <b>YES</b> - make available\n",
    "* [  ] NO - keep private"
   ]
  },
  {
   "cell_type": "markdown",
   "metadata": {},
   "source": [
    "# Overview"
   ]
  },
  {
   "cell_type": "markdown",
   "metadata": {},
   "source": [
    "This data science project looks at the correlation between the use of public transportation and car accidents in metropolitan cities in the United States. We decided to focus our analysis on buses as they are the most consistent and standardized method of transportation in large U.S. city centers. We also took into consideration confounding variables such as weather conditions and population density in our analysis of accident concentrations."
   ]
  },
  {
   "cell_type": "markdown",
   "metadata": {},
   "source": [
    "# Names\n",
    "\n",
    "- Shasta Subramanian\n",
    "- Nadine Marcus\n",
    "- Alexander Kourjanski\n",
    "- Sean Bianes\n",
    "- Seung Kang\n"
   ]
  },
  {
   "cell_type": "markdown",
   "metadata": {},
   "source": [
    "<a id='research_question'></a>\n",
    "# Research Question"
   ]
  },
  {
   "cell_type": "markdown",
   "metadata": {},
   "source": [
    "How does the frequency of bus stops in major US cities affect corresponding car accident distributions, and what are the most influential outside factors (population density, weather patterns, and proximity to infrastructure)?"
   ]
  },
  {
   "cell_type": "markdown",
   "metadata": {},
   "source": [
    "<a id='background'></a>\n",
    "\n",
    "## Background & Prior Work"
   ]
  },
  {
   "cell_type": "markdown",
   "metadata": {},
   "source": [
    "\n",
    "References (include links):\n",
    " 1. There seems to be some amount of previous research done on this topic within the United States, but for the most part it is just articles stating that the increase in public transportation reduces the car accident mortality by 90%. The most in depth article that was possible to find is an article of the CNU journal that only discusses the fatal car crashes, and not the overall number of car accidents from 2016<sup>[lichtman]</sup>. Although this study does go into detail regarding the data, the study does not go into detail regarding car accidents that do not cause death, which will be included in our study. They found that for cities with more than 500,000 people, there was a correlation of -0.71 between fatal car accidents and the use of public transportation per capita.\n",
    " 2. However, there was a study on the relationship between the frequency of night-bus transit and car accidents in major Israeli cities. Despite this being a study conducted outside the U.S., unlike the study above, data was collected for every accident that resulted in at least one injured individual. The research revealed that increase in night-bus usage decreased the frequency of accidents on Thursday and Saturday nights when traffic is greater than usual due to religious events and practices in Israel<sup>[steuteville]</sup>. The effect of Thursday and Saturday night buses on accident frequency involving people aged 15-29 was -0.0086 but with a p-value of less than 0.1. This decrease in accident rate was also 20.2% of the mean accident rate for the sample urban areas used in the study.\n",
    "\n",
    "References:\n",
    "- [lichtman]: Lichtman-Sadot, Shirlee. Ben-Gurion University of the Negev, https://in.bgu.ac.il/en/Pages/default.aspx\n",
    "- [steuteville]: Steuteville, Robert. “Big Safety Benefits From Transit.” CNU, 31 May 2022, https://www.cnu.org/publicsquare/2016/09/14/study-big-safety-benefits-transit"
   ]
  },
  {
   "cell_type": "markdown",
   "metadata": {},
   "source": [
    "# Hypothesis\n"
   ]
  },
  {
   "cell_type": "markdown",
   "metadata": {},
   "source": [
    "We believe that with an increase of accessibility and use of the bus system (aka more bus stops), there is a decrease in the rate of the collisions in the area for metropolitan cities because there will be less individuals driving, leading to less cars on the road. That way, without as much congestion, the streets will be overall safer. We also want to consider the influence of other factors out of which we believe the population density and weather would have the greatest impact."
   ]
  },
  {
   "cell_type": "markdown",
   "metadata": {},
   "source": [
    "# Dataset(s)"
   ]
  },
  {
   "cell_type": "markdown",
   "metadata": {},
   "source": [
    "<ol>\n",
    "    <li><b>Name</b>: US Accidents (2016 - 2021)\n",
    "    <ol>\n",
    "      <li><b>Link</b>: https://www.kaggle.com/datasets/sobhanmoosavi/us-accidents</li>\n",
    "      <li><b>Number of observations</b>: 2,845,342</li>\n",
    "      <li><b>Description</b>: This dataset contains accident records in 49 states in the United States from 2016 to 2021 using traffic incident APIs. The information, including location, severity, weather conditions, and more, was captured by numerous transportation departments and agencies. </li>\n",
    "    </ol>\n",
    "  </li>\n",
    "  <li><b>Name</b>: Population Density for U.S. Cities Statistics\n",
    "    <ol>\n",
    "      <li><b>Link</b>: https://www.governing.com/archive/population-density-land-area-cities-map.html </li>\n",
    "      <li><b>Number of observations</b>: 1000+</li>\n",
    "      <li><b>Description</b>: This dataset contains population density information for major US cities. In particular, it only includes records of cities with populations over 50,000. We will be focusing on the top 15 most populous cities in the US.</li>\n",
    "    </ol>\n",
    "  </li>\n",
    "    <li><b>Webscraping</b>:  Used to find number of bus stops in the largest cities</li>\n",
    "       \n",
    "</ol>\n",
    "\n",
    "Our primary dataset is the US Accidents set from Kaggle had over 2.8 million records, which was too large to use directly in Jupyter Notebooks. To resolve this, we removed some of the columns locally and then performed the remaining cleaning operations on the Datahub server. To incorporate the Population Density data, we manually inserted the cities relevant to the data we're collecting: the top 15 most populous cities in the US. Since population density is a confounding variable in answering our research question, we are looking to combine our datasets through the \"City\" column that was tidied to exclude the state in the name so it can have a matchable ID to other dataframes."
   ]
  },
  {
   "cell_type": "markdown",
   "metadata": {},
   "source": [
    "# Setup"
   ]
  },
  {
   "cell_type": "code",
   "execution_count": 76,
   "metadata": {},
   "outputs": [
    {
     "name": "stdout",
     "output_type": "stream",
     "text": [
      "Requirement already satisfied: opendatasets in c:\\users\\sasha\\anaconda3\\lib\\site-packages (0.1.22)\n",
      "Requirement already satisfied: click in c:\\users\\sasha\\anaconda3\\lib\\site-packages (from opendatasets) (8.0.4)\n",
      "Requirement already satisfied: tqdm in c:\\users\\sasha\\anaconda3\\lib\\site-packages (from opendatasets) (4.64.0)\n",
      "Requirement already satisfied: kaggle in c:\\users\\sasha\\anaconda3\\lib\\site-packages (from opendatasets) (1.5.12)\n",
      "Requirement already satisfied: colorama in c:\\users\\sasha\\anaconda3\\lib\\site-packages (from click->opendatasets) (0.4.4)\n",
      "Requirement already satisfied: python-dateutil in c:\\users\\sasha\\anaconda3\\lib\\site-packages (from kaggle->opendatasets) (2.8.2)\n",
      "Requirement already satisfied: requests in c:\\users\\sasha\\anaconda3\\lib\\site-packages (from kaggle->opendatasets) (2.27.1)\n",
      "Requirement already satisfied: python-slugify in c:\\users\\sasha\\anaconda3\\lib\\site-packages (from kaggle->opendatasets) (5.0.2)\n",
      "Requirement already satisfied: six>=1.10 in c:\\users\\sasha\\anaconda3\\lib\\site-packages (from kaggle->opendatasets) (1.16.0)\n",
      "Requirement already satisfied: urllib3 in c:\\users\\sasha\\anaconda3\\lib\\site-packages (from kaggle->opendatasets) (1.26.9)\n",
      "Requirement already satisfied: certifi in c:\\users\\sasha\\anaconda3\\lib\\site-packages (from kaggle->opendatasets) (2021.10.8)\n",
      "Requirement already satisfied: text-unidecode>=1.3 in c:\\users\\sasha\\anaconda3\\lib\\site-packages (from python-slugify->kaggle->opendatasets) (1.3)\n",
      "Requirement already satisfied: idna<4,>=2.5 in c:\\users\\sasha\\anaconda3\\lib\\site-packages (from requests->kaggle->opendatasets) (3.3)\n",
      "Requirement already satisfied: charset-normalizer~=2.0.0 in c:\\users\\sasha\\anaconda3\\lib\\site-packages (from requests->kaggle->opendatasets) (2.0.4)\n",
      "Note: you may need to restart the kernel to use updated packages.\n",
      "Note: you may need to restart the kernel to use updated packages.\n"
     ]
    }
   ],
   "source": [
    "## YOUR CODE HERE\n",
    "%pip install opendatasets\n",
    "%pip install -q kaggle"
   ]
  },
  {
   "cell_type": "code",
   "execution_count": 77,
   "metadata": {},
   "outputs": [],
   "source": [
    "import pandas as pd\n",
    "import opendatasets as od\n",
    "import numpy as np\n",
    "import seaborn as sns\n",
    "import matplotlib.pyplot as plt\n",
    "import requests\n",
    "import bs4\n",
    "from bs4 import BeautifulSoup\n",
    "import patsy\n",
    "import statsmodels.api as sm"
   ]
  },
  {
   "cell_type": "code",
   "execution_count": 78,
   "metadata": {},
   "outputs": [
    {
     "data": {
      "text/html": [
       "<div>\n",
       "<style scoped>\n",
       "    .dataframe tbody tr th:only-of-type {\n",
       "        vertical-align: middle;\n",
       "    }\n",
       "\n",
       "    .dataframe tbody tr th {\n",
       "        vertical-align: top;\n",
       "    }\n",
       "\n",
       "    .dataframe thead th {\n",
       "        text-align: right;\n",
       "    }\n",
       "</style>\n",
       "<table border=\"1\" class=\"dataframe\">\n",
       "  <thead>\n",
       "    <tr style=\"text-align: right;\">\n",
       "      <th></th>\n",
       "      <th>Unnamed: 0</th>\n",
       "      <th>Start_Time</th>\n",
       "      <th>City</th>\n",
       "      <th>State</th>\n",
       "      <th>Temperature(F)</th>\n",
       "      <th>Precipitation(in)</th>\n",
       "      <th>Weather_Condition</th>\n",
       "      <th>Amenity</th>\n",
       "      <th>Bump</th>\n",
       "      <th>Crossing</th>\n",
       "      <th>Give_Way</th>\n",
       "      <th>Junction</th>\n",
       "      <th>Railway</th>\n",
       "      <th>Roundabout</th>\n",
       "      <th>Station</th>\n",
       "      <th>Stop</th>\n",
       "    </tr>\n",
       "  </thead>\n",
       "  <tbody>\n",
       "    <tr>\n",
       "      <th>0</th>\n",
       "      <td>0</td>\n",
       "      <td>2016-02-08 00:37:08</td>\n",
       "      <td>Dublin</td>\n",
       "      <td>OH</td>\n",
       "      <td>42.1</td>\n",
       "      <td>0.00</td>\n",
       "      <td>Light Rain</td>\n",
       "      <td>False</td>\n",
       "      <td>False</td>\n",
       "      <td>False</td>\n",
       "      <td>False</td>\n",
       "      <td>False</td>\n",
       "      <td>False</td>\n",
       "      <td>False</td>\n",
       "      <td>False</td>\n",
       "      <td>False</td>\n",
       "    </tr>\n",
       "    <tr>\n",
       "      <th>1</th>\n",
       "      <td>1</td>\n",
       "      <td>2016-02-08 05:56:20</td>\n",
       "      <td>Dayton</td>\n",
       "      <td>OH</td>\n",
       "      <td>36.9</td>\n",
       "      <td>0.02</td>\n",
       "      <td>Light Rain</td>\n",
       "      <td>False</td>\n",
       "      <td>False</td>\n",
       "      <td>False</td>\n",
       "      <td>False</td>\n",
       "      <td>False</td>\n",
       "      <td>False</td>\n",
       "      <td>False</td>\n",
       "      <td>False</td>\n",
       "      <td>False</td>\n",
       "    </tr>\n",
       "    <tr>\n",
       "      <th>2</th>\n",
       "      <td>2</td>\n",
       "      <td>2016-02-08 06:15:39</td>\n",
       "      <td>Cincinnati</td>\n",
       "      <td>OH</td>\n",
       "      <td>36.0</td>\n",
       "      <td>0.02</td>\n",
       "      <td>Overcast</td>\n",
       "      <td>False</td>\n",
       "      <td>False</td>\n",
       "      <td>False</td>\n",
       "      <td>False</td>\n",
       "      <td>True</td>\n",
       "      <td>False</td>\n",
       "      <td>False</td>\n",
       "      <td>False</td>\n",
       "      <td>False</td>\n",
       "    </tr>\n",
       "    <tr>\n",
       "      <th>3</th>\n",
       "      <td>3</td>\n",
       "      <td>2016-02-08 06:51:45</td>\n",
       "      <td>Akron</td>\n",
       "      <td>OH</td>\n",
       "      <td>39.0</td>\n",
       "      <td>NaN</td>\n",
       "      <td>Overcast</td>\n",
       "      <td>False</td>\n",
       "      <td>False</td>\n",
       "      <td>False</td>\n",
       "      <td>False</td>\n",
       "      <td>False</td>\n",
       "      <td>False</td>\n",
       "      <td>False</td>\n",
       "      <td>False</td>\n",
       "      <td>False</td>\n",
       "    </tr>\n",
       "    <tr>\n",
       "      <th>4</th>\n",
       "      <td>4</td>\n",
       "      <td>2016-02-08 07:53:43</td>\n",
       "      <td>Cincinnati</td>\n",
       "      <td>OH</td>\n",
       "      <td>37.0</td>\n",
       "      <td>0.01</td>\n",
       "      <td>Light Rain</td>\n",
       "      <td>False</td>\n",
       "      <td>False</td>\n",
       "      <td>False</td>\n",
       "      <td>False</td>\n",
       "      <td>False</td>\n",
       "      <td>False</td>\n",
       "      <td>False</td>\n",
       "      <td>False</td>\n",
       "      <td>False</td>\n",
       "    </tr>\n",
       "  </tbody>\n",
       "</table>\n",
       "</div>"
      ],
      "text/plain": [
       "   Unnamed: 0           Start_Time        City State  Temperature(F)  \\\n",
       "0           0  2016-02-08 00:37:08      Dublin    OH            42.1   \n",
       "1           1  2016-02-08 05:56:20      Dayton    OH            36.9   \n",
       "2           2  2016-02-08 06:15:39  Cincinnati    OH            36.0   \n",
       "3           3  2016-02-08 06:51:45       Akron    OH            39.0   \n",
       "4           4  2016-02-08 07:53:43  Cincinnati    OH            37.0   \n",
       "\n",
       "   Precipitation(in) Weather_Condition  Amenity   Bump  Crossing  Give_Way  \\\n",
       "0               0.00        Light Rain    False  False     False     False   \n",
       "1               0.02        Light Rain    False  False     False     False   \n",
       "2               0.02          Overcast    False  False     False     False   \n",
       "3                NaN          Overcast    False  False     False     False   \n",
       "4               0.01        Light Rain    False  False     False     False   \n",
       "\n",
       "   Junction  Railway  Roundabout  Station   Stop  \n",
       "0     False    False       False    False  False  \n",
       "1     False    False       False    False  False  \n",
       "2      True    False       False    False  False  \n",
       "3     False    False       False    False  False  \n",
       "4     False    False       False    False  False  "
      ]
     },
     "execution_count": 78,
     "metadata": {},
     "output_type": "execute_result"
    }
   ],
   "source": [
    "file = pd.read_csv('./us_accidents_smaller.csv')\n",
    "file.head()"
   ]
  },
  {
   "cell_type": "markdown",
   "metadata": {},
   "source": [
    "# Data Cleaning"
   ]
  },
  {
   "cell_type": "markdown",
   "metadata": {},
   "source": [
    "The original US Accident data set consists of over 2.8 million records, covering 49 states in America. There are 47 columns storing a large variety of information spreading from accident location, severity, weather conditions, proximity to varying infrastructures, and more. We removed the columns that we did not need for our research locally before transferring the dataset to Jupyter Notebooks. For the purpose of our data science project, we only need a few select categories from the set listed below.\n",
    "\n",
    "**Columns to Keep**: Date (Start Time), City, State, Temperature, Precipitation, Weather_Condition, Amenity, Bump, Crossing, Give_Way, Junction, Railway, Roundabout, Station, Stop\n",
    " \n",
    "After reading in the semi-cleaned dataset, we removed all rows that had a null input and specifically kept the rows for the top 15 cities we decided to look at. Please refer to the Jupyter Notebook for more clarity on selection."
   ]
  },
  {
   "cell_type": "code",
   "execution_count": 79,
   "metadata": {},
   "outputs": [
    {
     "name": "stdout",
     "output_type": "stream",
     "text": [
      "Number of null rows: 571269 , Data shape: (2845342, 16)\n",
      "Data shape after dropping nulls: (2274073, 16)\n"
     ]
    }
   ],
   "source": [
    "#print number of null rows\n",
    "null_rows = len(file[file.isna().any(axis=1)])\n",
    "print(\"Number of null rows:\", null_rows, \", Data shape:\", file.shape)\n",
    "\n",
    "#drop all rows with null values\n",
    "file = file.dropna(axis = 0)\n",
    "print(\"Data shape after dropping nulls:\", file.shape)"
   ]
  },
  {
   "cell_type": "markdown",
   "metadata": {},
   "source": [
    "<h4>Saving Particular Cities</h4>"
   ]
  },
  {
   "cell_type": "code",
   "execution_count": 80,
   "metadata": {},
   "outputs": [
    {
     "data": {
      "text/html": [
       "<div>\n",
       "<style scoped>\n",
       "    .dataframe tbody tr th:only-of-type {\n",
       "        vertical-align: middle;\n",
       "    }\n",
       "\n",
       "    .dataframe tbody tr th {\n",
       "        vertical-align: top;\n",
       "    }\n",
       "\n",
       "    .dataframe thead th {\n",
       "        text-align: right;\n",
       "    }\n",
       "</style>\n",
       "<table border=\"1\" class=\"dataframe\">\n",
       "  <thead>\n",
       "    <tr style=\"text-align: right;\">\n",
       "      <th></th>\n",
       "      <th>Unnamed: 0</th>\n",
       "      <th>Start_Time</th>\n",
       "      <th>City</th>\n",
       "      <th>State</th>\n",
       "      <th>Temperature(F)</th>\n",
       "      <th>Precipitation(in)</th>\n",
       "      <th>Weather_Condition</th>\n",
       "      <th>Amenity</th>\n",
       "      <th>Bump</th>\n",
       "      <th>Crossing</th>\n",
       "      <th>Give_Way</th>\n",
       "      <th>Junction</th>\n",
       "      <th>Railway</th>\n",
       "      <th>Roundabout</th>\n",
       "      <th>Station</th>\n",
       "      <th>Stop</th>\n",
       "    </tr>\n",
       "  </thead>\n",
       "  <tbody>\n",
       "    <tr>\n",
       "      <th>16</th>\n",
       "      <td>16</td>\n",
       "      <td>2016-02-08 19:47:42</td>\n",
       "      <td>Columbus</td>\n",
       "      <td>OH</td>\n",
       "      <td>34.0</td>\n",
       "      <td>0.07</td>\n",
       "      <td>Overcast</td>\n",
       "      <td>False</td>\n",
       "      <td>False</td>\n",
       "      <td>False</td>\n",
       "      <td>False</td>\n",
       "      <td>False</td>\n",
       "      <td>False</td>\n",
       "      <td>False</td>\n",
       "      <td>False</td>\n",
       "      <td>False</td>\n",
       "    </tr>\n",
       "    <tr>\n",
       "      <th>17</th>\n",
       "      <td>17</td>\n",
       "      <td>2016-02-08 19:47:42</td>\n",
       "      <td>Columbus</td>\n",
       "      <td>OH</td>\n",
       "      <td>34.0</td>\n",
       "      <td>0.07</td>\n",
       "      <td>Overcast</td>\n",
       "      <td>False</td>\n",
       "      <td>False</td>\n",
       "      <td>False</td>\n",
       "      <td>False</td>\n",
       "      <td>False</td>\n",
       "      <td>False</td>\n",
       "      <td>False</td>\n",
       "      <td>False</td>\n",
       "      <td>False</td>\n",
       "    </tr>\n",
       "    <tr>\n",
       "      <th>18</th>\n",
       "      <td>18</td>\n",
       "      <td>2016-02-08 20:13:22</td>\n",
       "      <td>Columbus</td>\n",
       "      <td>OH</td>\n",
       "      <td>33.8</td>\n",
       "      <td>0.00</td>\n",
       "      <td>Light Snow</td>\n",
       "      <td>False</td>\n",
       "      <td>False</td>\n",
       "      <td>False</td>\n",
       "      <td>False</td>\n",
       "      <td>False</td>\n",
       "      <td>False</td>\n",
       "      <td>False</td>\n",
       "      <td>False</td>\n",
       "      <td>False</td>\n",
       "    </tr>\n",
       "    <tr>\n",
       "      <th>22</th>\n",
       "      <td>22</td>\n",
       "      <td>2016-02-09 05:54:01</td>\n",
       "      <td>Columbus</td>\n",
       "      <td>OH</td>\n",
       "      <td>25.0</td>\n",
       "      <td>0.02</td>\n",
       "      <td>Light Snow</td>\n",
       "      <td>False</td>\n",
       "      <td>False</td>\n",
       "      <td>False</td>\n",
       "      <td>False</td>\n",
       "      <td>False</td>\n",
       "      <td>False</td>\n",
       "      <td>False</td>\n",
       "      <td>False</td>\n",
       "      <td>False</td>\n",
       "    </tr>\n",
       "    <tr>\n",
       "      <th>46</th>\n",
       "      <td>46</td>\n",
       "      <td>2016-02-10 06:17:32</td>\n",
       "      <td>Columbus</td>\n",
       "      <td>OH</td>\n",
       "      <td>15.8</td>\n",
       "      <td>0.00</td>\n",
       "      <td>Light Snow</td>\n",
       "      <td>False</td>\n",
       "      <td>False</td>\n",
       "      <td>False</td>\n",
       "      <td>False</td>\n",
       "      <td>False</td>\n",
       "      <td>False</td>\n",
       "      <td>False</td>\n",
       "      <td>False</td>\n",
       "      <td>False</td>\n",
       "    </tr>\n",
       "  </tbody>\n",
       "</table>\n",
       "</div>"
      ],
      "text/plain": [
       "    Unnamed: 0           Start_Time      City State  Temperature(F)  \\\n",
       "16          16  2016-02-08 19:47:42  Columbus    OH            34.0   \n",
       "17          17  2016-02-08 19:47:42  Columbus    OH            34.0   \n",
       "18          18  2016-02-08 20:13:22  Columbus    OH            33.8   \n",
       "22          22  2016-02-09 05:54:01  Columbus    OH            25.0   \n",
       "46          46  2016-02-10 06:17:32  Columbus    OH            15.8   \n",
       "\n",
       "    Precipitation(in) Weather_Condition  Amenity   Bump  Crossing  Give_Way  \\\n",
       "16               0.07          Overcast    False  False     False     False   \n",
       "17               0.07          Overcast    False  False     False     False   \n",
       "18               0.00        Light Snow    False  False     False     False   \n",
       "22               0.02        Light Snow    False  False     False     False   \n",
       "46               0.00        Light Snow    False  False     False     False   \n",
       "\n",
       "    Junction  Railway  Roundabout  Station   Stop  \n",
       "16     False    False       False    False  False  \n",
       "17     False    False       False    False  False  \n",
       "18     False    False       False    False  False  \n",
       "22     False    False       False    False  False  \n",
       "46     False    False       False    False  False  "
      ]
     },
     "execution_count": 80,
     "metadata": {},
     "output_type": "execute_result"
    }
   ],
   "source": [
    "cities = ['New York',\"Los Angeles\",\"Chicago\",\"Houston\",\"Phoenix\",\"Philadelphia\",\"San Antonio\",\"San Diego\",\"Dallas\",\"San Jose\",\"Austin\",\"Jacksonville\",\"San Francisco\",\"Columbus\",\"Indianapolis\"]\n",
    "\n",
    "file = file.loc[file['City'].isin(cities)]\n",
    "file.head()"
   ]
  },
  {
   "cell_type": "code",
   "execution_count": 81,
   "metadata": {},
   "outputs": [
    {
     "data": {
      "text/plain": [
       "(227111, 16)"
      ]
     },
     "execution_count": 81,
     "metadata": {},
     "output_type": "execute_result"
    }
   ],
   "source": [
    "file.shape"
   ]
  },
  {
   "cell_type": "markdown",
   "metadata": {},
   "source": [
    "<h4>Tracking Number of Accidents per City</h4>"
   ]
  },
  {
   "cell_type": "code",
   "execution_count": 82,
   "metadata": {},
   "outputs": [
    {
     "data": {
      "text/plain": [
       "{'New York': 5438,\n",
       " 'Los Angeles': 58092,\n",
       " 'Chicago': 5067,\n",
       " 'Houston': 29279,\n",
       " 'Phoenix': 13287,\n",
       " 'Philadelphia': 6453,\n",
       " 'San Antonio': 5482,\n",
       " 'San Diego': 22462,\n",
       " 'Dallas': 34040,\n",
       " 'San Jose': 6119,\n",
       " 'Austin': 16290,\n",
       " 'Jacksonville': 12592,\n",
       " 'San Francisco': 5458,\n",
       " 'Columbus': 2071,\n",
       " 'Indianapolis': 4981}"
      ]
     },
     "execution_count": 82,
     "metadata": {},
     "output_type": "execute_result"
    }
   ],
   "source": [
    "accidents_byCity = {}\n",
    "for c in cities:\n",
    "    accidents = file['City'].value_counts()[c]\n",
    "    accidents_byCity[c] = accidents\n",
    "accidents_byCity"
   ]
  },
  {
   "cell_type": "code",
   "execution_count": 83,
   "metadata": {},
   "outputs": [
    {
     "data": {
      "text/plain": [
       "Text(0, 0.5, 'Number of Accidents')"
      ]
     },
     "execution_count": 83,
     "metadata": {},
     "output_type": "execute_result"
    },
    {
     "data": {
      "image/png": "[encoded data removed]",
      "text/plain": [
       "<Figure size 1080x576 with 1 Axes>"
      ]
     },
     "metadata": {
      "needs_background": "light"
     },
     "output_type": "display_data"
    }
   ],
   "source": [
    "accidents = [val for key, val in accidents_byCity.items()]\n",
    "f1,ax = plt.subplots(figsize =(15, 8))\n",
    "sns.barplot(x=cities, y = accidents, ax=ax)\n",
    "plt.xticks(rotation=15)\n",
    "plt.title('Number of Accidents Per City')\n",
    "plt.xlabel('Cities')\n",
    "plt.ylabel('Number of Accidents')"
   ]
  },
  {
   "cell_type": "markdown",
   "metadata": {},
   "source": [
    "<h4>Inputting Population Density Data</h4>\n",
    "This dataset includes all US cities with a population of over 50,000 in 2016, ranked by the population size. The original dataframe included over 1000 observations, so we tidied our data to only include the cities relevant to the data we're collecting: the top 15 most populous cities in the US. The dataset originally had four columns, but to gather the necessary data, we only need to know the city and population density."
   ]
  },
  {
   "cell_type": "code",
   "execution_count": 84,
   "metadata": {},
   "outputs": [
    {
     "data": {
      "text/html": [
       "<div>\n",
       "<style scoped>\n",
       "    .dataframe tbody tr th:only-of-type {\n",
       "        vertical-align: middle;\n",
       "    }\n",
       "\n",
       "    .dataframe tbody tr th {\n",
       "        vertical-align: top;\n",
       "    }\n",
       "\n",
       "    .dataframe thead th {\n",
       "        text-align: right;\n",
       "    }\n",
       "</style>\n",
       "<table border=\"1\" class=\"dataframe\">\n",
       "  <thead>\n",
       "    <tr style=\"text-align: right;\">\n",
       "      <th></th>\n",
       "      <th>Population Density (Persons/Square Mile)</th>\n",
       "      <th>Population</th>\n",
       "    </tr>\n",
       "    <tr>\n",
       "      <th>City</th>\n",
       "      <th></th>\n",
       "      <th></th>\n",
       "    </tr>\n",
       "  </thead>\n",
       "  <tbody>\n",
       "    <tr>\n",
       "      <th>Austin</th>\n",
       "      <td>3182</td>\n",
       "      <td>947890</td>\n",
       "    </tr>\n",
       "    <tr>\n",
       "      <th>Chicago</th>\n",
       "      <td>11883</td>\n",
       "      <td>2704958</td>\n",
       "    </tr>\n",
       "    <tr>\n",
       "      <th>Columbus</th>\n",
       "      <td>3960</td>\n",
       "      <td>860090</td>\n",
       "    </tr>\n",
       "    <tr>\n",
       "      <th>Dallas</th>\n",
       "      <td>3870</td>\n",
       "      <td>1317929</td>\n",
       "    </tr>\n",
       "    <tr>\n",
       "      <th>Houston</th>\n",
       "      <td>38422</td>\n",
       "      <td>2303482</td>\n",
       "    </tr>\n",
       "    <tr>\n",
       "      <th>Indianapolis</th>\n",
       "      <td>2366</td>\n",
       "      <td>855164</td>\n",
       "    </tr>\n",
       "    <tr>\n",
       "      <th>Jacksonville</th>\n",
       "      <td>1179</td>\n",
       "      <td>880619</td>\n",
       "    </tr>\n",
       "    <tr>\n",
       "      <th>Los Angeles</th>\n",
       "      <td>8484</td>\n",
       "      <td>3976322</td>\n",
       "    </tr>\n",
       "    <tr>\n",
       "      <th>New York</th>\n",
       "      <td>28211</td>\n",
       "      <td>8537673</td>\n",
       "    </tr>\n",
       "    <tr>\n",
       "      <th>Philadelphia</th>\n",
       "      <td>11692</td>\n",
       "      <td>1567872</td>\n",
       "    </tr>\n",
       "    <tr>\n",
       "      <th>Phoenix</th>\n",
       "      <td>3126</td>\n",
       "      <td>1615017</td>\n",
       "    </tr>\n",
       "    <tr>\n",
       "      <th>San Antonio</th>\n",
       "      <td>3238</td>\n",
       "      <td>1492510</td>\n",
       "    </tr>\n",
       "    <tr>\n",
       "      <th>San Diego</th>\n",
       "      <td>4326</td>\n",
       "      <td>1406630</td>\n",
       "    </tr>\n",
       "    <tr>\n",
       "      <th>San Francisco</th>\n",
       "      <td>18581</td>\n",
       "      <td>870887</td>\n",
       "    </tr>\n",
       "    <tr>\n",
       "      <th>San Jose</th>\n",
       "      <td>5808</td>\n",
       "      <td>1025350</td>\n",
       "    </tr>\n",
       "  </tbody>\n",
       "</table>\n",
       "</div>"
      ],
      "text/plain": [
       "               Population Density (Persons/Square Mile)  Population\n",
       "City                                                               \n",
       "Austin                                             3182      947890\n",
       "Chicago                                           11883     2704958\n",
       "Columbus                                           3960      860090\n",
       "Dallas                                             3870     1317929\n",
       "Houston                                           38422     2303482\n",
       "Indianapolis                                       2366      855164\n",
       "Jacksonville                                       1179      880619\n",
       "Los Angeles                                        8484     3976322\n",
       "New York                                          28211     8537673\n",
       "Philadelphia                                      11692     1567872\n",
       "Phoenix                                            3126     1615017\n",
       "San Antonio                                        3238     1492510\n",
       "San Diego                                          4326     1406630\n",
       "San Francisco                                     18581      870887\n",
       "San Jose                                           5808     1025350"
      ]
     },
     "execution_count": 84,
     "metadata": {},
     "output_type": "execute_result"
    }
   ],
   "source": [
    "columns = ['City', 'Population Density (Persons/Square Mile)', 'Population', 'Land Area (Square Miles)']\n",
    "pop_dens_df = pd.DataFrame([['New York, New York', 28211, 8537673, 303],\n",
    "['Los Angeles, California', 8484, 3976322, 469],\n",
    "['Chicago, Illinois', 11883, 2704958, 228],\n",
    "['Houston, Texas', 38422, 2303482, 600],\n",
    "['Phoenix, Arizona', 3126, 1615017, 517],\n",
    "['Philadelphia, Pennsylvania', 11692, 1567872, 134],\n",
    "['San Antonio, Texas', 3238, 1492510, 461],\n",
    "['San Diego, California', 4326, 1406630, 325],\n",
    "['Dallas, Texas', 3870, 1317929, 341],\n",
    "['San Jose, California', 5808, 1025350, 177],\n",
    "['Austin, Texas', 3182, 947890, 298],\n",
    "['Jacksonville, Florida', 1179, 880619, 747],\n",
    "['San Francisco, California', 18581, 870887, 47],\n",
    "['Columbus, Ohio', 3960, 860090, 217],\n",
    "['Indianapolis, Indiana', 2366, 855164, 361]], columns = columns)\n",
    "\n",
    "pop_dens_df[['City', 'State']] = pop_dens_df.City.str.split(',', expand = True)\n",
    "pop_dens_df = pop_dens_df.drop(['Land Area (Square Miles)', 'State'], axis = 1)\n",
    "pop_dens_df.groupby('City').sum()"
   ]
  },
  {
   "cell_type": "markdown",
   "metadata": {},
   "source": [
    "Since population density is a confounding variable in answering our research question, we are looking to combine our datasets through the \"City\" column that was tidied to exclude the state in the name so it can have a matchable ID to other dataframes."
   ]
  },
  {
   "cell_type": "markdown",
   "metadata": {},
   "source": [
    "<h4>WEBSCRAPE: Inputting Bus Stop Count Data by City</h4>\n",
    "For this dataframe, we had to use webscraping from different websites for each city in order to get the exact number of bus stops within each respective city. The City column will be used to combine this with the other datasets. We searched for these particular cities based on the top populations we found earlier to narrow down the size of the data we handled.\n",
    "\n",
    "**Number of Bus Stops by City**\n",
    "- 14000, [New York City]('https://www.ny.com/transportation/buses/ridebuses.html')\n",
    "- 11824, [Los Angeles]('https://moovitapp.com/index/en/public_transit-lines-Los_Angeles_CA-302-1177#:~:text=METRO%20')\n",
    "- 10768, [Chicago]('https://www.transitchicago.com/facts/')\n",
    "- 8939, [Houston]('https://moovitapp.com/index/en/public_transit-lines-Houston_TX-744-8791#:~:text=The%20METRO%20has%20103%20Bus%20routes%20in%20Houston%20with%208939%20Bus%20stops')\n",
    "- 4038, [Phoenix]('https://www.phoenix.gov/publictransit/rider-information/bus-stops-and-passenger-facilities#:~:text=Currently%20the%20City%20of,bus%20stops%20within%20city%20boundaries')\n",
    "- 4512, [Philadelphia]('https://moovitapp.com/index/en/public_transit-lines-Philadelphia_PA-282-852280#:~:text=The%20NJ%20TRANSIT%20BUS%20has,Philadelphia%20with%204512%20Bus%20stops')\n",
    "- 6015, [San Antonio]('https://moovitapp.com/index/en/public_transit-lines-San_Antonio_TX-1544-727002#:~:text=The%20VIA%20Metropolitan%20Transit%20has,Antonio%20with%206015%20Bus%20stops')\n",
    "- 4191, [San Diego]('https://moovitapp.com/index/en/public_transit-lines-San_Diego_CA-582-8889#:~:text=The%20MTS%2DBus%20has%20104,Diego%20with%204191%20Bus%20stops')\n",
    "- 6878, [Dallas]('https://www.dart.org/about/dartfacts.asp')\n",
    "- 3201, [San Jose]('https://moovitapp.com/index/en/public_transit-lines-SF_Bay_Area_CA-22-224#:~:text=VTA%20')\n",
    "- 2329, [Austin]('https://moovitapp.com/index/en/public_transit-lines-Austin_TX-583-855276#:~:text=The%20Capital%20Metro%2DBus%20has,Austin%20with%202329%20Bus%20stops')\n",
    "- 2359, [Jacksonville]('https://moovitapp.com/index/en/public_transit-lines-Austin_TX-583-855276#:~:text=The%20Capital%20Metro%2DBus%20has,Austin%20with%202329%20Bus%20stops')\n",
    "- 2964, [San Francisco]('https://www.bloomberg.com/news/articles/2021-08-03/how-better-bus-stops-can-boost-transit-ridership#:~:text=The%20San%20Francisco%20County%20Municipal,stops%20across%20the%20Bay%20Area')\n",
    "- 2934, [Columbus]('https://moovitapp.com/index/en/public_transit-lines-Columbus_OH-1523-727001#:~:text=The%20Central%20Ohio%20Transit%20Authority,Columbus%20with%202934%20Bus%20stops')\n",
    "- 2853, [Indianapolis]('https://moovitapp.com/index/en/public_transit-lines-Indianapolis_IN-1677-853643#:~:text=The%20IndyGo%20has%2032%20Bus%20routes%20in%20Indianapolis%20with%202853%20Bus%20stops')"
   ]
  },
  {
   "cell_type": "code",
   "execution_count": 85,
   "metadata": {},
   "outputs": [
    {
     "data": {
      "text/html": [
       "<div>\n",
       "<style scoped>\n",
       "    .dataframe tbody tr th:only-of-type {\n",
       "        vertical-align: middle;\n",
       "    }\n",
       "\n",
       "    .dataframe tbody tr th {\n",
       "        vertical-align: top;\n",
       "    }\n",
       "\n",
       "    .dataframe thead th {\n",
       "        text-align: right;\n",
       "    }\n",
       "</style>\n",
       "<table border=\"1\" class=\"dataframe\">\n",
       "  <thead>\n",
       "    <tr style=\"text-align: right;\">\n",
       "      <th></th>\n",
       "      <th>Number of Bus Stops</th>\n",
       "    </tr>\n",
       "    <tr>\n",
       "      <th>City</th>\n",
       "      <th></th>\n",
       "    </tr>\n",
       "  </thead>\n",
       "  <tbody>\n",
       "    <tr>\n",
       "      <th>Austin</th>\n",
       "      <td>2329</td>\n",
       "    </tr>\n",
       "    <tr>\n",
       "      <th>Chicago</th>\n",
       "      <td>10768</td>\n",
       "    </tr>\n",
       "    <tr>\n",
       "      <th>Columbus</th>\n",
       "      <td>2934</td>\n",
       "    </tr>\n",
       "    <tr>\n",
       "      <th>Dallas</th>\n",
       "      <td>6878</td>\n",
       "    </tr>\n",
       "    <tr>\n",
       "      <th>Houston</th>\n",
       "      <td>8939</td>\n",
       "    </tr>\n",
       "    <tr>\n",
       "      <th>Indianapolis</th>\n",
       "      <td>2853</td>\n",
       "    </tr>\n",
       "    <tr>\n",
       "      <th>Jacksonville</th>\n",
       "      <td>2359</td>\n",
       "    </tr>\n",
       "    <tr>\n",
       "      <th>Los Angeles</th>\n",
       "      <td>11824</td>\n",
       "    </tr>\n",
       "    <tr>\n",
       "      <th>New York</th>\n",
       "      <td>14000</td>\n",
       "    </tr>\n",
       "    <tr>\n",
       "      <th>Philadelphia</th>\n",
       "      <td>4512</td>\n",
       "    </tr>\n",
       "    <tr>\n",
       "      <th>Phoenix</th>\n",
       "      <td>4038</td>\n",
       "    </tr>\n",
       "    <tr>\n",
       "      <th>San Antonio</th>\n",
       "      <td>6015</td>\n",
       "    </tr>\n",
       "    <tr>\n",
       "      <th>San Diego</th>\n",
       "      <td>4191</td>\n",
       "    </tr>\n",
       "    <tr>\n",
       "      <th>San Francisco</th>\n",
       "      <td>2964</td>\n",
       "    </tr>\n",
       "    <tr>\n",
       "      <th>San Jose</th>\n",
       "      <td>3201</td>\n",
       "    </tr>\n",
       "  </tbody>\n",
       "</table>\n",
       "</div>"
      ],
      "text/plain": [
       "               Number of Bus Stops\n",
       "City                              \n",
       "Austin                        2329\n",
       "Chicago                      10768\n",
       "Columbus                      2934\n",
       "Dallas                        6878\n",
       "Houston                       8939\n",
       "Indianapolis                  2853\n",
       "Jacksonville                  2359\n",
       "Los Angeles                  11824\n",
       "New York                     14000\n",
       "Philadelphia                  4512\n",
       "Phoenix                       4038\n",
       "San Antonio                   6015\n",
       "San Diego                     4191\n",
       "San Francisco                 2964\n",
       "San Jose                      3201"
      ]
     },
     "execution_count": 85,
     "metadata": {},
     "output_type": "execute_result"
    }
   ],
   "source": [
    "num_stops = pd.DataFrame([['New York', 14000],['Los Angeles', 11824], ['Chicago', 10768], ['Houston', 8939], ['Phoenix', 4038], ['Philadelphia', 4512], ['San Antonio', 6015], ['San Diego', 4191], ['Dallas', 6878], ['San Jose', 3201], ['Austin', 2329], ['Jacksonville', 2359], ['San Francisco', 2964], ['Columbus', 2934], ['Indianapolis', 2853]], columns = ['City', 'Number of Bus Stops'])\n",
    "num_stops.groupby('City').sum()"
   ]
  },
  {
   "cell_type": "code",
   "execution_count": 86,
   "metadata": {},
   "outputs": [
    {
     "data": {
      "text/html": [
       "<div>\n",
       "<style scoped>\n",
       "    .dataframe tbody tr th:only-of-type {\n",
       "        vertical-align: middle;\n",
       "    }\n",
       "\n",
       "    .dataframe tbody tr th {\n",
       "        vertical-align: top;\n",
       "    }\n",
       "\n",
       "    .dataframe thead th {\n",
       "        text-align: right;\n",
       "    }\n",
       "</style>\n",
       "<table border=\"1\" class=\"dataframe\">\n",
       "  <thead>\n",
       "    <tr style=\"text-align: right;\">\n",
       "      <th></th>\n",
       "      <th>Population Density (Persons/Square Mile)</th>\n",
       "      <th>Population</th>\n",
       "      <th>Number of Bus Stops</th>\n",
       "    </tr>\n",
       "    <tr>\n",
       "      <th>City</th>\n",
       "      <th></th>\n",
       "      <th></th>\n",
       "      <th></th>\n",
       "    </tr>\n",
       "  </thead>\n",
       "  <tbody>\n",
       "    <tr>\n",
       "      <th>Austin</th>\n",
       "      <td>3182</td>\n",
       "      <td>947890</td>\n",
       "      <td>2329</td>\n",
       "    </tr>\n",
       "    <tr>\n",
       "      <th>Chicago</th>\n",
       "      <td>11883</td>\n",
       "      <td>2704958</td>\n",
       "      <td>10768</td>\n",
       "    </tr>\n",
       "    <tr>\n",
       "      <th>Columbus</th>\n",
       "      <td>3960</td>\n",
       "      <td>860090</td>\n",
       "      <td>2934</td>\n",
       "    </tr>\n",
       "    <tr>\n",
       "      <th>Dallas</th>\n",
       "      <td>3870</td>\n",
       "      <td>1317929</td>\n",
       "      <td>6878</td>\n",
       "    </tr>\n",
       "    <tr>\n",
       "      <th>Houston</th>\n",
       "      <td>38422</td>\n",
       "      <td>2303482</td>\n",
       "      <td>8939</td>\n",
       "    </tr>\n",
       "    <tr>\n",
       "      <th>Indianapolis</th>\n",
       "      <td>2366</td>\n",
       "      <td>855164</td>\n",
       "      <td>2853</td>\n",
       "    </tr>\n",
       "    <tr>\n",
       "      <th>Jacksonville</th>\n",
       "      <td>1179</td>\n",
       "      <td>880619</td>\n",
       "      <td>2359</td>\n",
       "    </tr>\n",
       "    <tr>\n",
       "      <th>Los Angeles</th>\n",
       "      <td>8484</td>\n",
       "      <td>3976322</td>\n",
       "      <td>11824</td>\n",
       "    </tr>\n",
       "    <tr>\n",
       "      <th>New York</th>\n",
       "      <td>28211</td>\n",
       "      <td>8537673</td>\n",
       "      <td>14000</td>\n",
       "    </tr>\n",
       "    <tr>\n",
       "      <th>Philadelphia</th>\n",
       "      <td>11692</td>\n",
       "      <td>1567872</td>\n",
       "      <td>4512</td>\n",
       "    </tr>\n",
       "    <tr>\n",
       "      <th>Phoenix</th>\n",
       "      <td>3126</td>\n",
       "      <td>1615017</td>\n",
       "      <td>4038</td>\n",
       "    </tr>\n",
       "    <tr>\n",
       "      <th>San Antonio</th>\n",
       "      <td>3238</td>\n",
       "      <td>1492510</td>\n",
       "      <td>6015</td>\n",
       "    </tr>\n",
       "    <tr>\n",
       "      <th>San Diego</th>\n",
       "      <td>4326</td>\n",
       "      <td>1406630</td>\n",
       "      <td>4191</td>\n",
       "    </tr>\n",
       "    <tr>\n",
       "      <th>San Francisco</th>\n",
       "      <td>18581</td>\n",
       "      <td>870887</td>\n",
       "      <td>2964</td>\n",
       "    </tr>\n",
       "    <tr>\n",
       "      <th>San Jose</th>\n",
       "      <td>5808</td>\n",
       "      <td>1025350</td>\n",
       "      <td>3201</td>\n",
       "    </tr>\n",
       "  </tbody>\n",
       "</table>\n",
       "</div>"
      ],
      "text/plain": [
       "               Population Density (Persons/Square Mile)  Population  \\\n",
       "City                                                                  \n",
       "Austin                                             3182      947890   \n",
       "Chicago                                           11883     2704958   \n",
       "Columbus                                           3960      860090   \n",
       "Dallas                                             3870     1317929   \n",
       "Houston                                           38422     2303482   \n",
       "Indianapolis                                       2366      855164   \n",
       "Jacksonville                                       1179      880619   \n",
       "Los Angeles                                        8484     3976322   \n",
       "New York                                          28211     8537673   \n",
       "Philadelphia                                      11692     1567872   \n",
       "Phoenix                                            3126     1615017   \n",
       "San Antonio                                        3238     1492510   \n",
       "San Diego                                          4326     1406630   \n",
       "San Francisco                                     18581      870887   \n",
       "San Jose                                           5808     1025350   \n",
       "\n",
       "               Number of Bus Stops  \n",
       "City                                \n",
       "Austin                        2329  \n",
       "Chicago                      10768  \n",
       "Columbus                      2934  \n",
       "Dallas                        6878  \n",
       "Houston                       8939  \n",
       "Indianapolis                  2853  \n",
       "Jacksonville                  2359  \n",
       "Los Angeles                  11824  \n",
       "New York                     14000  \n",
       "Philadelphia                  4512  \n",
       "Phoenix                       4038  \n",
       "San Antonio                   6015  \n",
       "San Diego                     4191  \n",
       "San Francisco                 2964  \n",
       "San Jose                      3201  "
      ]
     },
     "execution_count": 86,
     "metadata": {},
     "output_type": "execute_result"
    }
   ],
   "source": [
    "pop_stops = pop_dens_df.merge(num_stops).groupby('City').sum()\n",
    "pop_stops"
   ]
  },
  {
   "cell_type": "markdown",
   "metadata": {},
   "source": [
    "<h4>Sorting by Population</h4>"
   ]
  },
  {
   "cell_type": "code",
   "execution_count": 87,
   "metadata": {},
   "outputs": [
    {
     "data": {
      "text/html": [
       "<div>\n",
       "<style scoped>\n",
       "    .dataframe tbody tr th:only-of-type {\n",
       "        vertical-align: middle;\n",
       "    }\n",
       "\n",
       "    .dataframe tbody tr th {\n",
       "        vertical-align: top;\n",
       "    }\n",
       "\n",
       "    .dataframe thead th {\n",
       "        text-align: right;\n",
       "    }\n",
       "</style>\n",
       "<table border=\"1\" class=\"dataframe\">\n",
       "  <thead>\n",
       "    <tr style=\"text-align: right;\">\n",
       "      <th></th>\n",
       "      <th>Population Density (Persons/Square Mile)</th>\n",
       "      <th>Population</th>\n",
       "      <th>Number of Bus Stops</th>\n",
       "    </tr>\n",
       "    <tr>\n",
       "      <th>City</th>\n",
       "      <th></th>\n",
       "      <th></th>\n",
       "      <th></th>\n",
       "    </tr>\n",
       "  </thead>\n",
       "  <tbody>\n",
       "    <tr>\n",
       "      <th>New York</th>\n",
       "      <td>28211</td>\n",
       "      <td>8537673</td>\n",
       "      <td>14000</td>\n",
       "    </tr>\n",
       "    <tr>\n",
       "      <th>Los Angeles</th>\n",
       "      <td>8484</td>\n",
       "      <td>3976322</td>\n",
       "      <td>11824</td>\n",
       "    </tr>\n",
       "    <tr>\n",
       "      <th>Chicago</th>\n",
       "      <td>11883</td>\n",
       "      <td>2704958</td>\n",
       "      <td>10768</td>\n",
       "    </tr>\n",
       "    <tr>\n",
       "      <th>Houston</th>\n",
       "      <td>38422</td>\n",
       "      <td>2303482</td>\n",
       "      <td>8939</td>\n",
       "    </tr>\n",
       "    <tr>\n",
       "      <th>Phoenix</th>\n",
       "      <td>3126</td>\n",
       "      <td>1615017</td>\n",
       "      <td>4038</td>\n",
       "    </tr>\n",
       "    <tr>\n",
       "      <th>Philadelphia</th>\n",
       "      <td>11692</td>\n",
       "      <td>1567872</td>\n",
       "      <td>4512</td>\n",
       "    </tr>\n",
       "    <tr>\n",
       "      <th>San Antonio</th>\n",
       "      <td>3238</td>\n",
       "      <td>1492510</td>\n",
       "      <td>6015</td>\n",
       "    </tr>\n",
       "    <tr>\n",
       "      <th>San Diego</th>\n",
       "      <td>4326</td>\n",
       "      <td>1406630</td>\n",
       "      <td>4191</td>\n",
       "    </tr>\n",
       "    <tr>\n",
       "      <th>Dallas</th>\n",
       "      <td>3870</td>\n",
       "      <td>1317929</td>\n",
       "      <td>6878</td>\n",
       "    </tr>\n",
       "    <tr>\n",
       "      <th>San Jose</th>\n",
       "      <td>5808</td>\n",
       "      <td>1025350</td>\n",
       "      <td>3201</td>\n",
       "    </tr>\n",
       "    <tr>\n",
       "      <th>Austin</th>\n",
       "      <td>3182</td>\n",
       "      <td>947890</td>\n",
       "      <td>2329</td>\n",
       "    </tr>\n",
       "    <tr>\n",
       "      <th>Jacksonville</th>\n",
       "      <td>1179</td>\n",
       "      <td>880619</td>\n",
       "      <td>2359</td>\n",
       "    </tr>\n",
       "    <tr>\n",
       "      <th>San Francisco</th>\n",
       "      <td>18581</td>\n",
       "      <td>870887</td>\n",
       "      <td>2964</td>\n",
       "    </tr>\n",
       "    <tr>\n",
       "      <th>Columbus</th>\n",
       "      <td>3960</td>\n",
       "      <td>860090</td>\n",
       "      <td>2934</td>\n",
       "    </tr>\n",
       "    <tr>\n",
       "      <th>Indianapolis</th>\n",
       "      <td>2366</td>\n",
       "      <td>855164</td>\n",
       "      <td>2853</td>\n",
       "    </tr>\n",
       "  </tbody>\n",
       "</table>\n",
       "</div>"
      ],
      "text/plain": [
       "               Population Density (Persons/Square Mile)  Population  \\\n",
       "City                                                                  \n",
       "New York                                          28211     8537673   \n",
       "Los Angeles                                        8484     3976322   \n",
       "Chicago                                           11883     2704958   \n",
       "Houston                                           38422     2303482   \n",
       "Phoenix                                            3126     1615017   \n",
       "Philadelphia                                      11692     1567872   \n",
       "San Antonio                                        3238     1492510   \n",
       "San Diego                                          4326     1406630   \n",
       "Dallas                                             3870     1317929   \n",
       "San Jose                                           5808     1025350   \n",
       "Austin                                             3182      947890   \n",
       "Jacksonville                                       1179      880619   \n",
       "San Francisco                                     18581      870887   \n",
       "Columbus                                           3960      860090   \n",
       "Indianapolis                                       2366      855164   \n",
       "\n",
       "               Number of Bus Stops  \n",
       "City                                \n",
       "New York                     14000  \n",
       "Los Angeles                  11824  \n",
       "Chicago                      10768  \n",
       "Houston                       8939  \n",
       "Phoenix                       4038  \n",
       "Philadelphia                  4512  \n",
       "San Antonio                   6015  \n",
       "San Diego                     4191  \n",
       "Dallas                        6878  \n",
       "San Jose                      3201  \n",
       "Austin                        2329  \n",
       "Jacksonville                  2359  \n",
       "San Francisco                 2964  \n",
       "Columbus                      2934  \n",
       "Indianapolis                  2853  "
      ]
     },
     "execution_count": 87,
     "metadata": {},
     "output_type": "execute_result"
    }
   ],
   "source": [
    "pop_stops2 = pop_stops.sort_values(by='Population', ascending = False)\n",
    "pop_stops2"
   ]
  },
  {
   "cell_type": "markdown",
   "metadata": {},
   "source": [
    "<h4>Scroll Down to See Updated Joint Plots Combining Bus Stop + Accident Count Into One Chart</h4>"
   ]
  },
  {
   "cell_type": "code",
   "execution_count": 88,
   "metadata": {},
   "outputs": [
    {
     "data": {
      "text/plain": [
       "Text(0, 0.5, 'Number of Bus Stops')"
      ]
     },
     "execution_count": 88,
     "metadata": {},
     "output_type": "execute_result"
    },
    {
     "data": {
      "image/png": "[encoded data removed]",
      "text/plain": [
       "<Figure size 1080x576 with 1 Axes>"
      ]
     },
     "metadata": {
      "needs_background": "light"
     },
     "output_type": "display_data"
    }
   ],
   "source": [
    "f2,ax = plt.subplots(figsize =(15, 8))\n",
    "sns.barplot(data=pop_stops2.reset_index(),x = 'City', y= 'Number of Bus Stops', ax=ax)\n",
    "plt.xticks(rotation=15)\n",
    "plt.title('Number of Bus Stops Per City')\n",
    "plt.xlabel('Cities')\n",
    "plt.ylabel('Number of Bus Stops')"
   ]
  },
  {
   "cell_type": "code",
   "execution_count": 89,
   "metadata": {},
   "outputs": [
    {
     "data": {
      "text/html": [
       "<div>\n",
       "<style scoped>\n",
       "    .dataframe tbody tr th:only-of-type {\n",
       "        vertical-align: middle;\n",
       "    }\n",
       "\n",
       "    .dataframe tbody tr th {\n",
       "        vertical-align: top;\n",
       "    }\n",
       "\n",
       "    .dataframe thead th {\n",
       "        text-align: right;\n",
       "    }\n",
       "</style>\n",
       "<table border=\"1\" class=\"dataframe\">\n",
       "  <thead>\n",
       "    <tr style=\"text-align: right;\">\n",
       "      <th></th>\n",
       "      <th>Population Density (Persons/Square Mile)</th>\n",
       "      <th>Population</th>\n",
       "      <th>Number of Bus Stops</th>\n",
       "      <th>Land Area (sq. mi)</th>\n",
       "      <th>Stops/Square Mile</th>\n",
       "    </tr>\n",
       "    <tr>\n",
       "      <th>City</th>\n",
       "      <th></th>\n",
       "      <th></th>\n",
       "      <th></th>\n",
       "      <th></th>\n",
       "      <th></th>\n",
       "    </tr>\n",
       "  </thead>\n",
       "  <tbody>\n",
       "    <tr>\n",
       "      <th>New York</th>\n",
       "      <td>28211</td>\n",
       "      <td>8537673</td>\n",
       "      <td>14000</td>\n",
       "      <td>303</td>\n",
       "      <td>46.204620</td>\n",
       "    </tr>\n",
       "    <tr>\n",
       "      <th>Los Angeles</th>\n",
       "      <td>8484</td>\n",
       "      <td>3976322</td>\n",
       "      <td>11824</td>\n",
       "      <td>469</td>\n",
       "      <td>25.211087</td>\n",
       "    </tr>\n",
       "    <tr>\n",
       "      <th>Chicago</th>\n",
       "      <td>11883</td>\n",
       "      <td>2704958</td>\n",
       "      <td>10768</td>\n",
       "      <td>228</td>\n",
       "      <td>47.228070</td>\n",
       "    </tr>\n",
       "    <tr>\n",
       "      <th>Houston</th>\n",
       "      <td>38422</td>\n",
       "      <td>2303482</td>\n",
       "      <td>8939</td>\n",
       "      <td>600</td>\n",
       "      <td>14.898333</td>\n",
       "    </tr>\n",
       "    <tr>\n",
       "      <th>Phoenix</th>\n",
       "      <td>3126</td>\n",
       "      <td>1615017</td>\n",
       "      <td>4038</td>\n",
       "      <td>517</td>\n",
       "      <td>7.810445</td>\n",
       "    </tr>\n",
       "    <tr>\n",
       "      <th>Philadelphia</th>\n",
       "      <td>11692</td>\n",
       "      <td>1567872</td>\n",
       "      <td>4512</td>\n",
       "      <td>134</td>\n",
       "      <td>33.671642</td>\n",
       "    </tr>\n",
       "    <tr>\n",
       "      <th>San Antonio</th>\n",
       "      <td>3238</td>\n",
       "      <td>1492510</td>\n",
       "      <td>6015</td>\n",
       "      <td>461</td>\n",
       "      <td>13.047722</td>\n",
       "    </tr>\n",
       "    <tr>\n",
       "      <th>San Diego</th>\n",
       "      <td>4326</td>\n",
       "      <td>1406630</td>\n",
       "      <td>4191</td>\n",
       "      <td>325</td>\n",
       "      <td>12.895385</td>\n",
       "    </tr>\n",
       "    <tr>\n",
       "      <th>Dallas</th>\n",
       "      <td>3870</td>\n",
       "      <td>1317929</td>\n",
       "      <td>6878</td>\n",
       "      <td>341</td>\n",
       "      <td>20.170088</td>\n",
       "    </tr>\n",
       "    <tr>\n",
       "      <th>San Jose</th>\n",
       "      <td>5808</td>\n",
       "      <td>1025350</td>\n",
       "      <td>3201</td>\n",
       "      <td>177</td>\n",
       "      <td>18.084746</td>\n",
       "    </tr>\n",
       "    <tr>\n",
       "      <th>Austin</th>\n",
       "      <td>3182</td>\n",
       "      <td>947890</td>\n",
       "      <td>2329</td>\n",
       "      <td>298</td>\n",
       "      <td>7.815436</td>\n",
       "    </tr>\n",
       "    <tr>\n",
       "      <th>Jacksonville</th>\n",
       "      <td>1179</td>\n",
       "      <td>880619</td>\n",
       "      <td>2359</td>\n",
       "      <td>747</td>\n",
       "      <td>3.157965</td>\n",
       "    </tr>\n",
       "    <tr>\n",
       "      <th>San Francisco</th>\n",
       "      <td>18581</td>\n",
       "      <td>870887</td>\n",
       "      <td>2964</td>\n",
       "      <td>47</td>\n",
       "      <td>63.063830</td>\n",
       "    </tr>\n",
       "    <tr>\n",
       "      <th>Columbus</th>\n",
       "      <td>3960</td>\n",
       "      <td>860090</td>\n",
       "      <td>2934</td>\n",
       "      <td>217</td>\n",
       "      <td>13.520737</td>\n",
       "    </tr>\n",
       "    <tr>\n",
       "      <th>Indianapolis</th>\n",
       "      <td>2366</td>\n",
       "      <td>855164</td>\n",
       "      <td>2853</td>\n",
       "      <td>361</td>\n",
       "      <td>7.903047</td>\n",
       "    </tr>\n",
       "  </tbody>\n",
       "</table>\n",
       "</div>"
      ],
      "text/plain": [
       "               Population Density (Persons/Square Mile)  Population  \\\n",
       "City                                                                  \n",
       "New York                                          28211     8537673   \n",
       "Los Angeles                                        8484     3976322   \n",
       "Chicago                                           11883     2704958   \n",
       "Houston                                           38422     2303482   \n",
       "Phoenix                                            3126     1615017   \n",
       "Philadelphia                                      11692     1567872   \n",
       "San Antonio                                        3238     1492510   \n",
       "San Diego                                          4326     1406630   \n",
       "Dallas                                             3870     1317929   \n",
       "San Jose                                           5808     1025350   \n",
       "Austin                                             3182      947890   \n",
       "Jacksonville                                       1179      880619   \n",
       "San Francisco                                     18581      870887   \n",
       "Columbus                                           3960      860090   \n",
       "Indianapolis                                       2366      855164   \n",
       "\n",
       "               Number of Bus Stops  Land Area (sq. mi)  Stops/Square Mile  \n",
       "City                                                                       \n",
       "New York                     14000                 303          46.204620  \n",
       "Los Angeles                  11824                 469          25.211087  \n",
       "Chicago                      10768                 228          47.228070  \n",
       "Houston                       8939                 600          14.898333  \n",
       "Phoenix                       4038                 517           7.810445  \n",
       "Philadelphia                  4512                 134          33.671642  \n",
       "San Antonio                   6015                 461          13.047722  \n",
       "San Diego                     4191                 325          12.895385  \n",
       "Dallas                        6878                 341          20.170088  \n",
       "San Jose                      3201                 177          18.084746  \n",
       "Austin                        2329                 298           7.815436  \n",
       "Jacksonville                  2359                 747           3.157965  \n",
       "San Francisco                 2964                  47          63.063830  \n",
       "Columbus                      2934                 217          13.520737  \n",
       "Indianapolis                  2853                 361           7.903047  "
      ]
     },
     "execution_count": 89,
     "metadata": {},
     "output_type": "execute_result"
    }
   ],
   "source": [
    "pop_stops2['Land Area (sq. mi)'] = [303,469,228,600,517,134,461,325,341,177,298,747,47,217,361]\n",
    "pop_stops2['Stops/Square Mile'] = pop_stops2['Number of Bus Stops']/ pop_stops2['Land Area (sq. mi)']\n",
    "pop_stops2"
   ]
  },
  {
   "cell_type": "code",
   "execution_count": 90,
   "metadata": {},
   "outputs": [],
   "source": [
    "pop_stops3 = pop_stops2.sort_values(by='Stops/Square Mile', ascending = False)"
   ]
  },
  {
   "cell_type": "code",
   "execution_count": 91,
   "metadata": {},
   "outputs": [
    {
     "data": {
      "text/plain": [
       "Text(0, 0.5, 'Number of Stops/Square Mile')"
      ]
     },
     "execution_count": 91,
     "metadata": {},
     "output_type": "execute_result"
    },
    {
     "data": {
      "image/png": "[encoded data removed]",
      "text/plain": [
       "<Figure size 1080x576 with 1 Axes>"
      ]
     },
     "metadata": {
      "needs_background": "light"
     },
     "output_type": "display_data"
    }
   ],
   "source": [
    "f3,ax = plt.subplots(figsize =(15, 8))\n",
    "sns.barplot(data=pop_stops2.reset_index(),x='City', y='Stops/Square Mile', ax=ax)\n",
    "plt.xticks(rotation=15)\n",
    "plt.title('Bus Stop Density Per City')\n",
    "plt.xlabel('Cities')\n",
    "plt.ylabel('Number of Stops/Square Mile')"
   ]
  },
  {
   "cell_type": "code",
   "execution_count": 92,
   "metadata": {},
   "outputs": [
    {
     "data": {
      "text/html": [
       "<div>\n",
       "<style scoped>\n",
       "    .dataframe tbody tr th:only-of-type {\n",
       "        vertical-align: middle;\n",
       "    }\n",
       "\n",
       "    .dataframe tbody tr th {\n",
       "        vertical-align: top;\n",
       "    }\n",
       "\n",
       "    .dataframe thead th {\n",
       "        text-align: right;\n",
       "    }\n",
       "</style>\n",
       "<table border=\"1\" class=\"dataframe\">\n",
       "  <thead>\n",
       "    <tr style=\"text-align: right;\">\n",
       "      <th></th>\n",
       "      <th>Population Density (Persons/Square Mile)</th>\n",
       "      <th>Population</th>\n",
       "      <th>Number of Bus Stops</th>\n",
       "      <th>Land Area (sq. mi)</th>\n",
       "      <th>Stops/Square Mile</th>\n",
       "      <th>Accident Count</th>\n",
       "    </tr>\n",
       "    <tr>\n",
       "      <th>City</th>\n",
       "      <th></th>\n",
       "      <th></th>\n",
       "      <th></th>\n",
       "      <th></th>\n",
       "      <th></th>\n",
       "      <th></th>\n",
       "    </tr>\n",
       "  </thead>\n",
       "  <tbody>\n",
       "    <tr>\n",
       "      <th>New York</th>\n",
       "      <td>28211</td>\n",
       "      <td>8537673</td>\n",
       "      <td>14000</td>\n",
       "      <td>303</td>\n",
       "      <td>46.204620</td>\n",
       "      <td>5438</td>\n",
       "    </tr>\n",
       "    <tr>\n",
       "      <th>Los Angeles</th>\n",
       "      <td>8484</td>\n",
       "      <td>3976322</td>\n",
       "      <td>11824</td>\n",
       "      <td>469</td>\n",
       "      <td>25.211087</td>\n",
       "      <td>58092</td>\n",
       "    </tr>\n",
       "    <tr>\n",
       "      <th>Chicago</th>\n",
       "      <td>11883</td>\n",
       "      <td>2704958</td>\n",
       "      <td>10768</td>\n",
       "      <td>228</td>\n",
       "      <td>47.228070</td>\n",
       "      <td>5067</td>\n",
       "    </tr>\n",
       "    <tr>\n",
       "      <th>Houston</th>\n",
       "      <td>38422</td>\n",
       "      <td>2303482</td>\n",
       "      <td>8939</td>\n",
       "      <td>600</td>\n",
       "      <td>14.898333</td>\n",
       "      <td>29279</td>\n",
       "    </tr>\n",
       "    <tr>\n",
       "      <th>Phoenix</th>\n",
       "      <td>3126</td>\n",
       "      <td>1615017</td>\n",
       "      <td>4038</td>\n",
       "      <td>517</td>\n",
       "      <td>7.810445</td>\n",
       "      <td>13287</td>\n",
       "    </tr>\n",
       "    <tr>\n",
       "      <th>Philadelphia</th>\n",
       "      <td>11692</td>\n",
       "      <td>1567872</td>\n",
       "      <td>4512</td>\n",
       "      <td>134</td>\n",
       "      <td>33.671642</td>\n",
       "      <td>6453</td>\n",
       "    </tr>\n",
       "    <tr>\n",
       "      <th>San Antonio</th>\n",
       "      <td>3238</td>\n",
       "      <td>1492510</td>\n",
       "      <td>6015</td>\n",
       "      <td>461</td>\n",
       "      <td>13.047722</td>\n",
       "      <td>5482</td>\n",
       "    </tr>\n",
       "    <tr>\n",
       "      <th>San Diego</th>\n",
       "      <td>4326</td>\n",
       "      <td>1406630</td>\n",
       "      <td>4191</td>\n",
       "      <td>325</td>\n",
       "      <td>12.895385</td>\n",
       "      <td>22462</td>\n",
       "    </tr>\n",
       "    <tr>\n",
       "      <th>Dallas</th>\n",
       "      <td>3870</td>\n",
       "      <td>1317929</td>\n",
       "      <td>6878</td>\n",
       "      <td>341</td>\n",
       "      <td>20.170088</td>\n",
       "      <td>34040</td>\n",
       "    </tr>\n",
       "    <tr>\n",
       "      <th>San Jose</th>\n",
       "      <td>5808</td>\n",
       "      <td>1025350</td>\n",
       "      <td>3201</td>\n",
       "      <td>177</td>\n",
       "      <td>18.084746</td>\n",
       "      <td>6119</td>\n",
       "    </tr>\n",
       "    <tr>\n",
       "      <th>Austin</th>\n",
       "      <td>3182</td>\n",
       "      <td>947890</td>\n",
       "      <td>2329</td>\n",
       "      <td>298</td>\n",
       "      <td>7.815436</td>\n",
       "      <td>16290</td>\n",
       "    </tr>\n",
       "    <tr>\n",
       "      <th>Jacksonville</th>\n",
       "      <td>1179</td>\n",
       "      <td>880619</td>\n",
       "      <td>2359</td>\n",
       "      <td>747</td>\n",
       "      <td>3.157965</td>\n",
       "      <td>12592</td>\n",
       "    </tr>\n",
       "    <tr>\n",
       "      <th>San Francisco</th>\n",
       "      <td>18581</td>\n",
       "      <td>870887</td>\n",
       "      <td>2964</td>\n",
       "      <td>47</td>\n",
       "      <td>63.063830</td>\n",
       "      <td>5458</td>\n",
       "    </tr>\n",
       "    <tr>\n",
       "      <th>Columbus</th>\n",
       "      <td>3960</td>\n",
       "      <td>860090</td>\n",
       "      <td>2934</td>\n",
       "      <td>217</td>\n",
       "      <td>13.520737</td>\n",
       "      <td>2071</td>\n",
       "    </tr>\n",
       "    <tr>\n",
       "      <th>Indianapolis</th>\n",
       "      <td>2366</td>\n",
       "      <td>855164</td>\n",
       "      <td>2853</td>\n",
       "      <td>361</td>\n",
       "      <td>7.903047</td>\n",
       "      <td>4981</td>\n",
       "    </tr>\n",
       "  </tbody>\n",
       "</table>\n",
       "</div>"
      ],
      "text/plain": [
       "               Population Density (Persons/Square Mile)  Population  \\\n",
       "City                                                                  \n",
       "New York                                          28211     8537673   \n",
       "Los Angeles                                        8484     3976322   \n",
       "Chicago                                           11883     2704958   \n",
       "Houston                                           38422     2303482   \n",
       "Phoenix                                            3126     1615017   \n",
       "Philadelphia                                      11692     1567872   \n",
       "San Antonio                                        3238     1492510   \n",
       "San Diego                                          4326     1406630   \n",
       "Dallas                                             3870     1317929   \n",
       "San Jose                                           5808     1025350   \n",
       "Austin                                             3182      947890   \n",
       "Jacksonville                                       1179      880619   \n",
       "San Francisco                                     18581      870887   \n",
       "Columbus                                           3960      860090   \n",
       "Indianapolis                                       2366      855164   \n",
       "\n",
       "               Number of Bus Stops  Land Area (sq. mi)  Stops/Square Mile  \\\n",
       "City                                                                        \n",
       "New York                     14000                 303          46.204620   \n",
       "Los Angeles                  11824                 469          25.211087   \n",
       "Chicago                      10768                 228          47.228070   \n",
       "Houston                       8939                 600          14.898333   \n",
       "Phoenix                       4038                 517           7.810445   \n",
       "Philadelphia                  4512                 134          33.671642   \n",
       "San Antonio                   6015                 461          13.047722   \n",
       "San Diego                     4191                 325          12.895385   \n",
       "Dallas                        6878                 341          20.170088   \n",
       "San Jose                      3201                 177          18.084746   \n",
       "Austin                        2329                 298           7.815436   \n",
       "Jacksonville                  2359                 747           3.157965   \n",
       "San Francisco                 2964                  47          63.063830   \n",
       "Columbus                      2934                 217          13.520737   \n",
       "Indianapolis                  2853                 361           7.903047   \n",
       "\n",
       "               Accident Count  \n",
       "City                           \n",
       "New York                 5438  \n",
       "Los Angeles             58092  \n",
       "Chicago                  5067  \n",
       "Houston                 29279  \n",
       "Phoenix                 13287  \n",
       "Philadelphia             6453  \n",
       "San Antonio              5482  \n",
       "San Diego               22462  \n",
       "Dallas                  34040  \n",
       "San Jose                 6119  \n",
       "Austin                  16290  \n",
       "Jacksonville            12592  \n",
       "San Francisco            5458  \n",
       "Columbus                 2071  \n",
       "Indianapolis             4981  "
      ]
     },
     "execution_count": 92,
     "metadata": {},
     "output_type": "execute_result"
    }
   ],
   "source": [
    "pop_stops2['Accident Count'] = accidents_byCity.values()\n",
    "pop_stops2"
   ]
  },
  {
   "cell_type": "code",
   "execution_count": 93,
   "metadata": {},
   "outputs": [
    {
     "data": {
      "text/html": [
       "<div>\n",
       "<style scoped>\n",
       "    .dataframe tbody tr th:only-of-type {\n",
       "        vertical-align: middle;\n",
       "    }\n",
       "\n",
       "    .dataframe tbody tr th {\n",
       "        vertical-align: top;\n",
       "    }\n",
       "\n",
       "    .dataframe thead th {\n",
       "        text-align: right;\n",
       "    }\n",
       "</style>\n",
       "<table border=\"1\" class=\"dataframe\">\n",
       "  <thead>\n",
       "    <tr style=\"text-align: right;\">\n",
       "      <th></th>\n",
       "      <th>Population Density (Persons/Square Mile)</th>\n",
       "      <th>Population</th>\n",
       "      <th>Number of Bus Stops</th>\n",
       "      <th>Land Area (sq. mi)</th>\n",
       "      <th>Stops/Square Mile</th>\n",
       "      <th>Accident Count</th>\n",
       "      <th>Accidents/Square Mile</th>\n",
       "    </tr>\n",
       "    <tr>\n",
       "      <th>City</th>\n",
       "      <th></th>\n",
       "      <th></th>\n",
       "      <th></th>\n",
       "      <th></th>\n",
       "      <th></th>\n",
       "      <th></th>\n",
       "      <th></th>\n",
       "    </tr>\n",
       "  </thead>\n",
       "  <tbody>\n",
       "    <tr>\n",
       "      <th>New York</th>\n",
       "      <td>28211</td>\n",
       "      <td>8537673</td>\n",
       "      <td>14000</td>\n",
       "      <td>303</td>\n",
       "      <td>46.204620</td>\n",
       "      <td>5438</td>\n",
       "      <td>17.947195</td>\n",
       "    </tr>\n",
       "    <tr>\n",
       "      <th>Los Angeles</th>\n",
       "      <td>8484</td>\n",
       "      <td>3976322</td>\n",
       "      <td>11824</td>\n",
       "      <td>469</td>\n",
       "      <td>25.211087</td>\n",
       "      <td>58092</td>\n",
       "      <td>123.863539</td>\n",
       "    </tr>\n",
       "    <tr>\n",
       "      <th>Chicago</th>\n",
       "      <td>11883</td>\n",
       "      <td>2704958</td>\n",
       "      <td>10768</td>\n",
       "      <td>228</td>\n",
       "      <td>47.228070</td>\n",
       "      <td>5067</td>\n",
       "      <td>22.223684</td>\n",
       "    </tr>\n",
       "    <tr>\n",
       "      <th>Houston</th>\n",
       "      <td>38422</td>\n",
       "      <td>2303482</td>\n",
       "      <td>8939</td>\n",
       "      <td>600</td>\n",
       "      <td>14.898333</td>\n",
       "      <td>29279</td>\n",
       "      <td>48.798333</td>\n",
       "    </tr>\n",
       "    <tr>\n",
       "      <th>Phoenix</th>\n",
       "      <td>3126</td>\n",
       "      <td>1615017</td>\n",
       "      <td>4038</td>\n",
       "      <td>517</td>\n",
       "      <td>7.810445</td>\n",
       "      <td>13287</td>\n",
       "      <td>25.700193</td>\n",
       "    </tr>\n",
       "    <tr>\n",
       "      <th>Philadelphia</th>\n",
       "      <td>11692</td>\n",
       "      <td>1567872</td>\n",
       "      <td>4512</td>\n",
       "      <td>134</td>\n",
       "      <td>33.671642</td>\n",
       "      <td>6453</td>\n",
       "      <td>48.156716</td>\n",
       "    </tr>\n",
       "    <tr>\n",
       "      <th>San Antonio</th>\n",
       "      <td>3238</td>\n",
       "      <td>1492510</td>\n",
       "      <td>6015</td>\n",
       "      <td>461</td>\n",
       "      <td>13.047722</td>\n",
       "      <td>5482</td>\n",
       "      <td>11.891540</td>\n",
       "    </tr>\n",
       "    <tr>\n",
       "      <th>San Diego</th>\n",
       "      <td>4326</td>\n",
       "      <td>1406630</td>\n",
       "      <td>4191</td>\n",
       "      <td>325</td>\n",
       "      <td>12.895385</td>\n",
       "      <td>22462</td>\n",
       "      <td>69.113846</td>\n",
       "    </tr>\n",
       "    <tr>\n",
       "      <th>Dallas</th>\n",
       "      <td>3870</td>\n",
       "      <td>1317929</td>\n",
       "      <td>6878</td>\n",
       "      <td>341</td>\n",
       "      <td>20.170088</td>\n",
       "      <td>34040</td>\n",
       "      <td>99.824047</td>\n",
       "    </tr>\n",
       "    <tr>\n",
       "      <th>San Jose</th>\n",
       "      <td>5808</td>\n",
       "      <td>1025350</td>\n",
       "      <td>3201</td>\n",
       "      <td>177</td>\n",
       "      <td>18.084746</td>\n",
       "      <td>6119</td>\n",
       "      <td>34.570621</td>\n",
       "    </tr>\n",
       "    <tr>\n",
       "      <th>Austin</th>\n",
       "      <td>3182</td>\n",
       "      <td>947890</td>\n",
       "      <td>2329</td>\n",
       "      <td>298</td>\n",
       "      <td>7.815436</td>\n",
       "      <td>16290</td>\n",
       "      <td>54.664430</td>\n",
       "    </tr>\n",
       "    <tr>\n",
       "      <th>Jacksonville</th>\n",
       "      <td>1179</td>\n",
       "      <td>880619</td>\n",
       "      <td>2359</td>\n",
       "      <td>747</td>\n",
       "      <td>3.157965</td>\n",
       "      <td>12592</td>\n",
       "      <td>16.856760</td>\n",
       "    </tr>\n",
       "    <tr>\n",
       "      <th>San Francisco</th>\n",
       "      <td>18581</td>\n",
       "      <td>870887</td>\n",
       "      <td>2964</td>\n",
       "      <td>47</td>\n",
       "      <td>63.063830</td>\n",
       "      <td>5458</td>\n",
       "      <td>116.127660</td>\n",
       "    </tr>\n",
       "    <tr>\n",
       "      <th>Columbus</th>\n",
       "      <td>3960</td>\n",
       "      <td>860090</td>\n",
       "      <td>2934</td>\n",
       "      <td>217</td>\n",
       "      <td>13.520737</td>\n",
       "      <td>2071</td>\n",
       "      <td>9.543779</td>\n",
       "    </tr>\n",
       "    <tr>\n",
       "      <th>Indianapolis</th>\n",
       "      <td>2366</td>\n",
       "      <td>855164</td>\n",
       "      <td>2853</td>\n",
       "      <td>361</td>\n",
       "      <td>7.903047</td>\n",
       "      <td>4981</td>\n",
       "      <td>13.797784</td>\n",
       "    </tr>\n",
       "  </tbody>\n",
       "</table>\n",
       "</div>"
      ],
      "text/plain": [
       "               Population Density (Persons/Square Mile)  Population  \\\n",
       "City                                                                  \n",
       "New York                                          28211     8537673   \n",
       "Los Angeles                                        8484     3976322   \n",
       "Chicago                                           11883     2704958   \n",
       "Houston                                           38422     2303482   \n",
       "Phoenix                                            3126     1615017   \n",
       "Philadelphia                                      11692     1567872   \n",
       "San Antonio                                        3238     1492510   \n",
       "San Diego                                          4326     1406630   \n",
       "Dallas                                             3870     1317929   \n",
       "San Jose                                           5808     1025350   \n",
       "Austin                                             3182      947890   \n",
       "Jacksonville                                       1179      880619   \n",
       "San Francisco                                     18581      870887   \n",
       "Columbus                                           3960      860090   \n",
       "Indianapolis                                       2366      855164   \n",
       "\n",
       "               Number of Bus Stops  Land Area (sq. mi)  Stops/Square Mile  \\\n",
       "City                                                                        \n",
       "New York                     14000                 303          46.204620   \n",
       "Los Angeles                  11824                 469          25.211087   \n",
       "Chicago                      10768                 228          47.228070   \n",
       "Houston                       8939                 600          14.898333   \n",
       "Phoenix                       4038                 517           7.810445   \n",
       "Philadelphia                  4512                 134          33.671642   \n",
       "San Antonio                   6015                 461          13.047722   \n",
       "San Diego                     4191                 325          12.895385   \n",
       "Dallas                        6878                 341          20.170088   \n",
       "San Jose                      3201                 177          18.084746   \n",
       "Austin                        2329                 298           7.815436   \n",
       "Jacksonville                  2359                 747           3.157965   \n",
       "San Francisco                 2964                  47          63.063830   \n",
       "Columbus                      2934                 217          13.520737   \n",
       "Indianapolis                  2853                 361           7.903047   \n",
       "\n",
       "               Accident Count  Accidents/Square Mile  \n",
       "City                                                  \n",
       "New York                 5438              17.947195  \n",
       "Los Angeles             58092             123.863539  \n",
       "Chicago                  5067              22.223684  \n",
       "Houston                 29279              48.798333  \n",
       "Phoenix                 13287              25.700193  \n",
       "Philadelphia             6453              48.156716  \n",
       "San Antonio              5482              11.891540  \n",
       "San Diego               22462              69.113846  \n",
       "Dallas                  34040              99.824047  \n",
       "San Jose                 6119              34.570621  \n",
       "Austin                  16290              54.664430  \n",
       "Jacksonville            12592              16.856760  \n",
       "San Francisco            5458             116.127660  \n",
       "Columbus                 2071               9.543779  \n",
       "Indianapolis             4981              13.797784  "
      ]
     },
     "execution_count": 93,
     "metadata": {},
     "output_type": "execute_result"
    }
   ],
   "source": [
    "pop_stops2['Accidents/Square Mile'] = pop_stops2['Accident Count'] / pop_stops2['Land Area (sq. mi)']\n",
    "pop_stops2"
   ]
  },
  {
   "cell_type": "markdown",
   "metadata": {},
   "source": [
    "# Data Analysis & Results"
   ]
  },
  {
   "cell_type": "markdown",
   "metadata": {},
   "source": [
    "To answer our question, we need to see how many accidents occur in each of the cities we narrowed down to. We also compared the counts of bus stops per city to find any correlation. \n",
    "\n",
    "**Bar Plot 1: Number of Accidents + Bus Stops Per City**"
   ]
  },
  {
   "cell_type": "code",
   "execution_count": 94,
   "metadata": {},
   "outputs": [
    {
     "data": {
      "text/plain": [
       "Text(0.5, 1.0, 'Accident and Bus Stop Count Per City')"
      ]
     },
     "execution_count": 94,
     "metadata": {},
     "output_type": "execute_result"
    },
    {
     "data": {
      "image/png": "[encoded data removed]",
      "text/plain": [
       "<Figure size 1080x576 with 1 Axes>"
      ]
     },
     "metadata": {
      "needs_background": "light"
     },
     "output_type": "display_data"
    }
   ],
   "source": [
    "f4,ax = plt.subplots(figsize =(15, 8))\n",
    "pop_stops2 = pop_stops2.reset_index()\n",
    "pop_stops2.plot(x='City', y=['Accident Count', 'Number of Bus Stops'], kind='bar', ax=ax)\n",
    "plt.title('Accident and Bus Stop Count Per City')"
   ]
  },
  {
   "cell_type": "markdown",
   "metadata": {},
   "source": [
    "This bar plot represents the counts for how many traffic accidents happened in a city in relation to the number of bus stops in those cities. We felt that we needed to visualize the amount of accidents that have been recorded for each city and see if the amount of bus stops in the city significantly decrease the amount of accidents in each city. As seen in this bar plot however we can see that the amount of bus stops in each city does not significantly affect how many accidents occurred per city. As we can see for example, San Diego and San Antonio have the same amount of bus stops but a significant difference in the amount of car accidents. However, we feel that this does not accurately represent the correlation we are questioning therefore we are going to model further variables to understand the relationship better.\n",
    "\n",
    "**Bar Plot 2: Accident + Bus Stop Density Per City**"
   ]
  },
  {
   "cell_type": "code",
   "execution_count": 95,
   "metadata": {},
   "outputs": [
    {
     "data": {
      "text/plain": [
       "Text(0.5, 1.0, 'Accidents and Bus Stop Density Per City')"
      ]
     },
     "execution_count": 95,
     "metadata": {},
     "output_type": "execute_result"
    },
    {
     "data": {
      "image/png": "[encoded data removed]",
      "text/plain": [
       "<Figure size 1080x576 with 1 Axes>"
      ]
     },
     "metadata": {
      "needs_background": "light"
     },
     "output_type": "display_data"
    }
   ],
   "source": [
    "f5,ax = plt.subplots(figsize =(15, 8))\n",
    "pop_stops2 = pop_stops2.reset_index()\n",
    "pop_stops2.plot(x='City', y=['Accidents/Square Mile', 'Stops/Square Mile'], kind='bar', ax=ax)\n",
    "plt.title('Accidents and Bus Stop Density Per City')"
   ]
  },
  {
   "cell_type": "markdown",
   "metadata": {},
   "source": [
    "We felt that just comparing accidents to the amount of bus stops in a city did not give us enough evidence to base any decisions. We started our further analysis by visualizing the relationship between bus stop density and accident count, which are our independent and dependent variables, respectively. This bar plot highlights the information in regards to density, in this case recorded in square miles. The reason why we chose bus stop density in comparison to the overall count this time is because we wanted to see if the main relation was based on the sparsity of the bus stops throughout each city. Narrowing down to the level of square miles helps us see if the accidents were focused in certain areas and how the locations of the bus stops could influence the positioning. \n",
    "\n",
    "**Scatter Plot 1: Bus Stop Density/Accident Count**"
   ]
  },
  {
   "cell_type": "code",
   "execution_count": 96,
   "metadata": {},
   "outputs": [
    {
     "data": {
      "text/plain": [
       "Text(4.925000000000011, 0.5, 'Accident Count')"
      ]
     },
     "execution_count": 96,
     "metadata": {},
     "output_type": "execute_result"
    },
    {
     "data": {
      "image/png": "[encoded data removed]",
      "text/plain": [
       "<Figure size 360x360 with 1 Axes>"
      ]
     },
     "metadata": {
      "needs_background": "light"
     },
     "output_type": "display_data"
    }
   ],
   "source": [
    "sns.lmplot(data=pop_stops2.reset_index(),x='Stops/Square Mile', y='Accident Count')\n",
    "plt.title('Accidents/Stop Density')\n",
    "plt.xlabel('Stops/Square Mile')\n",
    "plt.ylabel('Accident Count')"
   ]
  },
  {
   "cell_type": "markdown",
   "metadata": {},
   "source": [
    "Taking it one step further, this linear plot, where accident count in a city is shown on the y-axis and the number of bus stops per square mile on the x-axis, displays a negative correlation: the higher the density of bus stops (in stops per square mile) in a city, the lower the number of accidents. This plot goes in line with what we expected in that a higher concentration of bus stops would mean a lower number of accidents. If the density of bus stops is higher it means that the public transportation system is more accessible to the citizens, yielding a decrease in individual drivers and rate of collisions."
   ]
  },
  {
   "cell_type": "markdown",
   "metadata": {},
   "source": [
    "<h3>Linear Regression</h3>\n",
    "Below, we used a linear regression model to determine the exact statistics regarding the correlation between bus stop density and accident count, and the correlation between population density and accident count. These models were created to determine whether the correlation seen in the plots occurred by chance or by actual causation. "
   ]
  },
  {
   "cell_type": "code",
   "execution_count": 97,
   "metadata": {},
   "outputs": [
    {
     "name": "stdout",
     "output_type": "stream",
     "text": [
      "                                 OLS Regression Results                                \n",
      "=======================================================================================\n",
      "Dep. Variable:         Accident Count   R-squared (uncentered):                   0.250\n",
      "Model:                            OLS   Adj. R-squared (uncentered):              0.197\n",
      "Method:                 Least Squares   F-statistic:                              4.669\n",
      "Date:                Thu, 08 Dec 2022   Prob (F-statistic):                      0.0485\n",
      "Time:                        17:43:55   Log-Likelihood:                         -168.53\n",
      "No. Observations:                  15   AIC:                                      339.1\n",
      "Df Residuals:                      14   BIC:                                      339.8\n",
      "Df Model:                           1                                                  \n",
      "Covariance Type:            nonrobust                                                  \n",
      "=====================================================================================\n",
      "                        coef    std err          t      P>|t|      [0.025      0.975]\n",
      "-------------------------------------------------------------------------------------\n",
      "Stops/Square Mile   377.6668    174.778      2.161      0.049       2.805     752.529\n",
      "==============================================================================\n",
      "Omnibus:                        2.791   Durbin-Watson:                   2.324\n",
      "Prob(Omnibus):                  0.248   Jarque-Bera (JB):                1.335\n",
      "Skew:                           0.726   Prob(JB):                        0.513\n",
      "Kurtosis:                       3.172   Cond. No.                         1.00\n",
      "==============================================================================\n",
      "\n",
      "Notes:\n",
      "[1] R² is computed without centering (uncentered) since the model does not contain a constant.\n",
      "[2] Standard Errors assume that the covariance matrix of the errors is correctly specified.\n"
     ]
    },
    {
     "name": "stderr",
     "output_type": "stream",
     "text": [
      "c:\\Users\\sasha\\anaconda3\\lib\\site-packages\\scipy\\stats\\stats.py:1541: UserWarning: kurtosistest only valid for n>=20 ... continuing anyway, n=15\n",
      "  warnings.warn(\"kurtosistest only valid for n>=20 ... continuing \"\n"
     ]
    }
   ],
   "source": [
    "Y=pop_stops2['Accident Count']\n",
    "X=pop_stops2['Stops/Square Mile']\n",
    "model = sm.OLS(Y,X)\n",
    "results = model.fit()\n",
    "print(results.summary())"
   ]
  },
  {
   "cell_type": "markdown",
   "metadata": {},
   "source": [
    "There is a significant effect size of 377.7, and the p-value is very small (0.049), which means the probability of the correlation occurring by chance is very small. The linear model shows that there is a significant relationship between bus stop density and accident count."
   ]
  },
  {
   "cell_type": "markdown",
   "metadata": {},
   "source": [
    "<h3>Looking Into Confounding Variables</h3>\n",
    "When looking at the large accident data set encompassing the United States, it is important to realize that there are many factors that could play a role in the likelihood of an accident occurring. Strictly analyzing the bus stop density and comparing it to accidents is not enough, and looks over potential other significant factors that could be influencing the statistics."
   ]
  },
  {
   "cell_type": "markdown",
   "metadata": {},
   "source": [
    "#### Confounding Factor #1: Population Density\n",
    "\n",
    "First, we consider population density a confounding variable because a more dense area would likely have more traffic, potentially leading to more traffic accidents within the denser regions.\n",
    "\n",
    "**Scatter Plot 2: Population Density/Accident Count**"
   ]
  },
  {
   "cell_type": "code",
   "execution_count": 98,
   "metadata": {},
   "outputs": [
    {
     "data": {
      "text/plain": [
       "Text(-3.4499999999999886, 0.5, 'Accident Count')"
      ]
     },
     "execution_count": 98,
     "metadata": {},
     "output_type": "execute_result"
    },
    {
     "data": {
      "image/png": "[encoded data removed]",
      "text/plain": [
       "<Figure size 360x360 with 1 Axes>"
      ]
     },
     "metadata": {
      "needs_background": "light"
     },
     "output_type": "display_data"
    }
   ],
   "source": [
    "sns.lmplot(data=pop_stops2.reset_index(),x='Population Density (Persons/Square Mile)', y='Accident Count')\n",
    "plt.title('Accident Count/ Pop Density')\n",
    "plt.xlabel('Population Density')\n",
    "plt.ylabel('Accident Count')"
   ]
  },
  {
   "cell_type": "markdown",
   "metadata": {},
   "source": [
    "Once again, we utilize a linear plot to compare the population per square mile and number of accidents. The scatter plot shows a slightly positive correlation between the population density shown on the x-axis and the accident counts found on the y-axis. As we had predicted, there does seem to be a positive correlation between population density and frequency of accidents. If the population density is higher, meaning more people per square mile, there is a corresponding increase in collisions. However, the linear plot itself doesn’t show as significant of a correlation as originally expected. We had thought that the population density would have been a large alternative factor to bus stop concentration for accidents in major cities.\n",
    "\n",
    "**Linear Regression Model 2: Population Density/Accident Count**"
   ]
  },
  {
   "cell_type": "code",
   "execution_count": 99,
   "metadata": {},
   "outputs": [
    {
     "name": "stdout",
     "output_type": "stream",
     "text": [
      "                                 OLS Regression Results                                \n",
      "=======================================================================================\n",
      "Dep. Variable:         Accident Count   R-squared (uncentered):                   0.282\n",
      "Model:                            OLS   Adj. R-squared (uncentered):              0.231\n",
      "Method:                 Least Squares   F-statistic:                              5.498\n",
      "Date:                Thu, 08 Dec 2022   Prob (F-statistic):                      0.0343\n",
      "Time:                        17:43:55   Log-Likelihood:                         -168.20\n",
      "No. Observations:                  15   AIC:                                      338.4\n",
      "Df Residuals:                      14   BIC:                                      339.1\n",
      "Df Model:                           1                                                  \n",
      "Covariance Type:            nonrobust                                                  \n",
      "============================================================================================================\n",
      "                                               coef    std err          t      P>|t|      [0.025      0.975]\n",
      "------------------------------------------------------------------------------------------------------------\n",
      "Population Density (Persons/Square Mile)     0.7833      0.334      2.345      0.034       0.067       1.500\n",
      "==============================================================================\n",
      "Omnibus:                        8.031   Durbin-Watson:                   2.081\n",
      "Prob(Omnibus):                  0.018   Jarque-Bera (JB):                4.545\n",
      "Skew:                           1.194   Prob(JB):                        0.103\n",
      "Kurtosis:                       4.254   Cond. No.                         1.00\n",
      "==============================================================================\n",
      "\n",
      "Notes:\n",
      "[1] R² is computed without centering (uncentered) since the model does not contain a constant.\n",
      "[2] Standard Errors assume that the covariance matrix of the errors is correctly specified.\n"
     ]
    },
    {
     "name": "stderr",
     "output_type": "stream",
     "text": [
      "c:\\Users\\sasha\\anaconda3\\lib\\site-packages\\scipy\\stats\\stats.py:1541: UserWarning: kurtosistest only valid for n>=20 ... continuing anyway, n=15\n",
      "  warnings.warn(\"kurtosistest only valid for n>=20 ... continuing \"\n"
     ]
    }
   ],
   "source": [
    "Y=pop_stops2['Accident Count']\n",
    "X=pop_stops2['Population Density (Persons/Square Mile)']\n",
    "model = sm.OLS(Y,X)\n",
    "results = model.fit()\n",
    "print(results.summary())"
   ]
  },
  {
   "cell_type": "markdown",
   "metadata": {},
   "source": [
    "There is a significant effect size of 0.78, and the p-value is very small (0.034), which means the probability of the correlation occurring by chance is very small. This linear model shows that there is a significant relationship between population density and accident count and proves that population density is a valid confound in our analysis of the effect of bus stop density on accident frequency. Our interpretation of this result is that because a greater population density could mean more concentrated traffic on the roads, there may be more car accidents in cities with greater population densities."
   ]
  },
  {
   "cell_type": "markdown",
   "metadata": {},
   "source": [
    "#### Confounding Factor #2: Weather Conditions\n",
    "\n",
    "Weather was another major confounding factor we wanted to consider, but is too general, so we specifically looked into the influence of temperature and precipitation on accidents within respective regions. The US Accidents dataset from Kaggle included records of temperature in fahrenheit and precipitation in inches which we predicted would impact the likelihood of the occurrence of collisions."
   ]
  },
  {
   "cell_type": "code",
   "execution_count": 100,
   "metadata": {},
   "outputs": [
    {
     "data": {
      "text/plain": [
       "Fair                      108082\n",
       "Mostly Cloudy              33326\n",
       "Cloudy                     32714\n",
       "Partly Cloudy              21372\n",
       "Light Rain                 10696\n",
       "                           ...  \n",
       "Snow and Sleet / Windy         1\n",
       "Thunder / Wintry Mix           1\n",
       "Freezing Rain / Windy          1\n",
       "Heavy Sleet                    1\n",
       "Sand / Dust Whirlwinds         1\n",
       "Name: Weather_Condition, Length: 73, dtype: int64"
      ]
     },
     "execution_count": 100,
     "metadata": {},
     "output_type": "execute_result"
    }
   ],
   "source": [
    "file['Weather_Condition'].value_counts()"
   ]
  },
  {
   "cell_type": "code",
   "execution_count": 101,
   "metadata": {},
   "outputs": [
    {
     "data": {
      "text/html": [
       "<div>\n",
       "<style scoped>\n",
       "    .dataframe tbody tr th:only-of-type {\n",
       "        vertical-align: middle;\n",
       "    }\n",
       "\n",
       "    .dataframe tbody tr th {\n",
       "        vertical-align: top;\n",
       "    }\n",
       "\n",
       "    .dataframe thead th {\n",
       "        text-align: right;\n",
       "    }\n",
       "</style>\n",
       "<table border=\"1\" class=\"dataframe\">\n",
       "  <thead>\n",
       "    <tr style=\"text-align: right;\">\n",
       "      <th></th>\n",
       "      <th>City</th>\n",
       "      <th>Population Density (Persons/Square Mile)</th>\n",
       "      <th>Population</th>\n",
       "      <th>Number of Bus Stops</th>\n",
       "      <th>Land Area (sq. mi)</th>\n",
       "      <th>Stops/Square Mile</th>\n",
       "      <th>Accident Count</th>\n",
       "      <th>Accidents/Square Mile</th>\n",
       "      <th>Temperature(F)</th>\n",
       "    </tr>\n",
       "  </thead>\n",
       "  <tbody>\n",
       "    <tr>\n",
       "      <th>0</th>\n",
       "      <td>New York</td>\n",
       "      <td>28211</td>\n",
       "      <td>8537673</td>\n",
       "      <td>14000</td>\n",
       "      <td>303</td>\n",
       "      <td>46.204620</td>\n",
       "      <td>5438</td>\n",
       "      <td>17.947195</td>\n",
       "      <td>70.777201</td>\n",
       "    </tr>\n",
       "    <tr>\n",
       "      <th>1</th>\n",
       "      <td>Los Angeles</td>\n",
       "      <td>8484</td>\n",
       "      <td>3976322</td>\n",
       "      <td>11824</td>\n",
       "      <td>469</td>\n",
       "      <td>25.211087</td>\n",
       "      <td>58092</td>\n",
       "      <td>123.863539</td>\n",
       "      <td>53.934221</td>\n",
       "    </tr>\n",
       "    <tr>\n",
       "      <th>2</th>\n",
       "      <td>Chicago</td>\n",
       "      <td>11883</td>\n",
       "      <td>2704958</td>\n",
       "      <td>10768</td>\n",
       "      <td>228</td>\n",
       "      <td>47.228070</td>\n",
       "      <td>5067</td>\n",
       "      <td>22.223684</td>\n",
       "      <td>54.869870</td>\n",
       "    </tr>\n",
       "    <tr>\n",
       "      <th>3</th>\n",
       "      <td>Houston</td>\n",
       "      <td>38422</td>\n",
       "      <td>2303482</td>\n",
       "      <td>8939</td>\n",
       "      <td>600</td>\n",
       "      <td>14.898333</td>\n",
       "      <td>29279</td>\n",
       "      <td>48.798333</td>\n",
       "      <td>67.432350</td>\n",
       "    </tr>\n",
       "    <tr>\n",
       "      <th>4</th>\n",
       "      <td>Phoenix</td>\n",
       "      <td>3126</td>\n",
       "      <td>1615017</td>\n",
       "      <td>4038</td>\n",
       "      <td>517</td>\n",
       "      <td>7.810445</td>\n",
       "      <td>13287</td>\n",
       "      <td>25.700193</td>\n",
       "      <td>72.420120</td>\n",
       "    </tr>\n",
       "    <tr>\n",
       "      <th>5</th>\n",
       "      <td>Philadelphia</td>\n",
       "      <td>11692</td>\n",
       "      <td>1567872</td>\n",
       "      <td>4512</td>\n",
       "      <td>134</td>\n",
       "      <td>33.671642</td>\n",
       "      <td>6453</td>\n",
       "      <td>48.156716</td>\n",
       "      <td>55.802610</td>\n",
       "    </tr>\n",
       "    <tr>\n",
       "      <th>6</th>\n",
       "      <td>San Antonio</td>\n",
       "      <td>3238</td>\n",
       "      <td>1492510</td>\n",
       "      <td>6015</td>\n",
       "      <td>461</td>\n",
       "      <td>13.047722</td>\n",
       "      <td>5482</td>\n",
       "      <td>11.891540</td>\n",
       "      <td>70.097729</td>\n",
       "    </tr>\n",
       "    <tr>\n",
       "      <th>7</th>\n",
       "      <td>San Diego</td>\n",
       "      <td>4326</td>\n",
       "      <td>1406630</td>\n",
       "      <td>4191</td>\n",
       "      <td>325</td>\n",
       "      <td>12.895385</td>\n",
       "      <td>22462</td>\n",
       "      <td>69.113846</td>\n",
       "      <td>64.725232</td>\n",
       "    </tr>\n",
       "    <tr>\n",
       "      <th>8</th>\n",
       "      <td>Dallas</td>\n",
       "      <td>3870</td>\n",
       "      <td>1317929</td>\n",
       "      <td>6878</td>\n",
       "      <td>341</td>\n",
       "      <td>20.170088</td>\n",
       "      <td>34040</td>\n",
       "      <td>99.824047</td>\n",
       "      <td>56.923575</td>\n",
       "    </tr>\n",
       "    <tr>\n",
       "      <th>9</th>\n",
       "      <td>San Jose</td>\n",
       "      <td>5808</td>\n",
       "      <td>1025350</td>\n",
       "      <td>3201</td>\n",
       "      <td>177</td>\n",
       "      <td>18.084746</td>\n",
       "      <td>6119</td>\n",
       "      <td>34.570621</td>\n",
       "      <td>55.192686</td>\n",
       "    </tr>\n",
       "    <tr>\n",
       "      <th>10</th>\n",
       "      <td>Austin</td>\n",
       "      <td>3182</td>\n",
       "      <td>947890</td>\n",
       "      <td>2329</td>\n",
       "      <td>298</td>\n",
       "      <td>7.815436</td>\n",
       "      <td>16290</td>\n",
       "      <td>54.664430</td>\n",
       "      <td>76.671784</td>\n",
       "    </tr>\n",
       "    <tr>\n",
       "      <th>11</th>\n",
       "      <td>Jacksonville</td>\n",
       "      <td>1179</td>\n",
       "      <td>880619</td>\n",
       "      <td>2359</td>\n",
       "      <td>747</td>\n",
       "      <td>3.157965</td>\n",
       "      <td>12592</td>\n",
       "      <td>16.856760</td>\n",
       "      <td>71.790478</td>\n",
       "    </tr>\n",
       "    <tr>\n",
       "      <th>12</th>\n",
       "      <td>San Francisco</td>\n",
       "      <td>18581</td>\n",
       "      <td>870887</td>\n",
       "      <td>2964</td>\n",
       "      <td>47</td>\n",
       "      <td>63.063830</td>\n",
       "      <td>5458</td>\n",
       "      <td>116.127660</td>\n",
       "      <td>64.103183</td>\n",
       "    </tr>\n",
       "    <tr>\n",
       "      <th>13</th>\n",
       "      <td>Columbus</td>\n",
       "      <td>3960</td>\n",
       "      <td>860090</td>\n",
       "      <td>2934</td>\n",
       "      <td>217</td>\n",
       "      <td>13.520737</td>\n",
       "      <td>2071</td>\n",
       "      <td>9.543779</td>\n",
       "      <td>59.635874</td>\n",
       "    </tr>\n",
       "    <tr>\n",
       "      <th>14</th>\n",
       "      <td>Indianapolis</td>\n",
       "      <td>2366</td>\n",
       "      <td>855164</td>\n",
       "      <td>2853</td>\n",
       "      <td>361</td>\n",
       "      <td>7.903047</td>\n",
       "      <td>4981</td>\n",
       "      <td>13.797784</td>\n",
       "      <td>61.280471</td>\n",
       "    </tr>\n",
       "  </tbody>\n",
       "</table>\n",
       "</div>"
      ],
      "text/plain": [
       "             City  Population Density (Persons/Square Mile)  Population  \\\n",
       "0        New York                                     28211     8537673   \n",
       "1     Los Angeles                                      8484     3976322   \n",
       "2         Chicago                                     11883     2704958   \n",
       "3         Houston                                     38422     2303482   \n",
       "4         Phoenix                                      3126     1615017   \n",
       "5    Philadelphia                                     11692     1567872   \n",
       "6     San Antonio                                      3238     1492510   \n",
       "7       San Diego                                      4326     1406630   \n",
       "8          Dallas                                      3870     1317929   \n",
       "9        San Jose                                      5808     1025350   \n",
       "10         Austin                                      3182      947890   \n",
       "11   Jacksonville                                      1179      880619   \n",
       "12  San Francisco                                     18581      870887   \n",
       "13       Columbus                                      3960      860090   \n",
       "14   Indianapolis                                      2366      855164   \n",
       "\n",
       "    Number of Bus Stops  Land Area (sq. mi)  Stops/Square Mile  \\\n",
       "0                 14000                 303          46.204620   \n",
       "1                 11824                 469          25.211087   \n",
       "2                 10768                 228          47.228070   \n",
       "3                  8939                 600          14.898333   \n",
       "4                  4038                 517           7.810445   \n",
       "5                  4512                 134          33.671642   \n",
       "6                  6015                 461          13.047722   \n",
       "7                  4191                 325          12.895385   \n",
       "8                  6878                 341          20.170088   \n",
       "9                  3201                 177          18.084746   \n",
       "10                 2329                 298           7.815436   \n",
       "11                 2359                 747           3.157965   \n",
       "12                 2964                  47          63.063830   \n",
       "13                 2934                 217          13.520737   \n",
       "14                 2853                 361           7.903047   \n",
       "\n",
       "    Accident Count  Accidents/Square Mile  Temperature(F)  \n",
       "0             5438              17.947195       70.777201  \n",
       "1            58092             123.863539       53.934221  \n",
       "2             5067              22.223684       54.869870  \n",
       "3            29279              48.798333       67.432350  \n",
       "4            13287              25.700193       72.420120  \n",
       "5             6453              48.156716       55.802610  \n",
       "6             5482              11.891540       70.097729  \n",
       "7            22462              69.113846       64.725232  \n",
       "8            34040              99.824047       56.923575  \n",
       "9             6119              34.570621       55.192686  \n",
       "10           16290              54.664430       76.671784  \n",
       "11           12592              16.856760       71.790478  \n",
       "12            5458             116.127660       64.103183  \n",
       "13            2071               9.543779       59.635874  \n",
       "14            4981              13.797784       61.280471  "
      ]
     },
     "execution_count": 101,
     "metadata": {},
     "output_type": "execute_result"
    }
   ],
   "source": [
    "file_temps = pd.DataFrame(file.groupby('City')['Temperature(F)'].mean()).reset_index()\n",
    "pop_stops2['Temperature(F)'] = file_temps['Temperature(F)']\n",
    "pop_stops2 = pop_stops2.drop('index', axis =1 )\n",
    "pop_stops2"
   ]
  },
  {
   "cell_type": "code",
   "execution_count": 102,
   "metadata": {},
   "outputs": [
    {
     "data": {
      "text/plain": [
       "(array([ 0,  1,  2,  3,  4,  5,  6,  7,  8,  9, 10, 11, 12, 13, 14]),\n",
       " [Text(0, 0, 'New York'),\n",
       "  Text(1, 0, 'Los Angeles'),\n",
       "  Text(2, 0, 'Chicago'),\n",
       "  Text(3, 0, 'Houston'),\n",
       "  Text(4, 0, 'Phoenix'),\n",
       "  Text(5, 0, 'Philadelphia'),\n",
       "  Text(6, 0, 'San Antonio'),\n",
       "  Text(7, 0, 'San Diego'),\n",
       "  Text(8, 0, 'Dallas'),\n",
       "  Text(9, 0, 'San Jose'),\n",
       "  Text(10, 0, 'Austin'),\n",
       "  Text(11, 0, 'Jacksonville'),\n",
       "  Text(12, 0, 'San Francisco'),\n",
       "  Text(13, 0, 'Columbus'),\n",
       "  Text(14, 0, 'Indianapolis')])"
      ]
     },
     "execution_count": 102,
     "metadata": {},
     "output_type": "execute_result"
    },
    {
     "data": {
      "image/png": "[encoded data removed]",
      "text/plain": [
       "<Figure size 1080x576 with 1 Axes>"
      ]
     },
     "metadata": {
      "needs_background": "light"
     },
     "output_type": "display_data"
    }
   ],
   "source": [
    "f6,ax = plt.subplots(figsize =(15, 8))\n",
    "sns.barplot(data=pop_stops2, x= 'City', y = 'Temperature(F)', ax=ax)\n",
    "plt.title('Average Temperature by City')\n",
    "plt.xticks(rotation=45)"
   ]
  },
  {
   "cell_type": "code",
   "execution_count": 103,
   "metadata": {},
   "outputs": [
    {
     "data": {
      "text/plain": [
       "(15, 12)"
      ]
     },
     "execution_count": 103,
     "metadata": {},
     "output_type": "execute_result"
    }
   ],
   "source": [
    "temps = file.groupby('City').mean()\n",
    "temps.shape"
   ]
  },
  {
   "cell_type": "markdown",
   "metadata": {},
   "source": [
    "**Scatter Plot 3: Temperature**"
   ]
  },
  {
   "cell_type": "code",
   "execution_count": 104,
   "metadata": {},
   "outputs": [
    {
     "data": {
      "text/plain": [
       "Text(0, 0.5, 'Accident Density')"
      ]
     },
     "execution_count": 104,
     "metadata": {},
     "output_type": "execute_result"
    },
    {
     "data": {
      "image/png": "[encoded data removed]",
      "text/plain": [
       "<Figure size 432x288 with 1 Axes>"
      ]
     },
     "metadata": {
      "needs_background": "light"
     },
     "output_type": "display_data"
    }
   ],
   "source": [
    "plt.scatter(x=temps['Temperature(F)'], y=pop_stops2['Accidents/Square Mile'])\n",
    "plt.title('Accident Density/ Average Temperature')\n",
    "plt.xlabel('Average Temperature (Degrees F)')\n",
    "plt.ylabel('Accident Density')"
   ]
  },
  {
   "cell_type": "markdown",
   "metadata": {},
   "source": [
    "The above plot depicts the relationship between temperature and concentration of accidents. The data points are scattered quite randomly so it is difficult to draw a relationship between these factors. It was important to consider the temperature since we were analyzing cities spreading across the country in different climate zones, which could have some effect on accidents. This makes sense however, since we would consider precipitation, amongst other weather factors, to be more influential in impacting accident likelihood. \n"
   ]
  },
  {
   "cell_type": "code",
   "execution_count": 105,
   "metadata": {},
   "outputs": [
    {
     "data": {
      "text/html": [
       "<div>\n",
       "<style scoped>\n",
       "    .dataframe tbody tr th:only-of-type {\n",
       "        vertical-align: middle;\n",
       "    }\n",
       "\n",
       "    .dataframe tbody tr th {\n",
       "        vertical-align: top;\n",
       "    }\n",
       "\n",
       "    .dataframe thead th {\n",
       "        text-align: right;\n",
       "    }\n",
       "</style>\n",
       "<table border=\"1\" class=\"dataframe\">\n",
       "  <thead>\n",
       "    <tr style=\"text-align: right;\">\n",
       "      <th></th>\n",
       "      <th>Unnamed: 0</th>\n",
       "      <th>Temperature(F)</th>\n",
       "      <th>Precipitation(in)</th>\n",
       "      <th>Amenity</th>\n",
       "      <th>Bump</th>\n",
       "      <th>Crossing</th>\n",
       "      <th>Give_Way</th>\n",
       "      <th>Junction</th>\n",
       "      <th>Railway</th>\n",
       "      <th>Roundabout</th>\n",
       "      <th>Station</th>\n",
       "      <th>Stop</th>\n",
       "    </tr>\n",
       "    <tr>\n",
       "      <th>City</th>\n",
       "      <th></th>\n",
       "      <th></th>\n",
       "      <th></th>\n",
       "      <th></th>\n",
       "      <th></th>\n",
       "      <th></th>\n",
       "      <th></th>\n",
       "      <th></th>\n",
       "      <th></th>\n",
       "      <th></th>\n",
       "      <th></th>\n",
       "      <th></th>\n",
       "    </tr>\n",
       "  </thead>\n",
       "  <tbody>\n",
       "    <tr>\n",
       "      <th>Austin</th>\n",
       "      <td>1.245623e+06</td>\n",
       "      <td>70.777201</td>\n",
       "      <td>0.004066</td>\n",
       "      <td>0.056722</td>\n",
       "      <td>0.001473</td>\n",
       "      <td>0.111234</td>\n",
       "      <td>0.004113</td>\n",
       "      <td>0.032781</td>\n",
       "      <td>0.002701</td>\n",
       "      <td>0.000368</td>\n",
       "      <td>0.050215</td>\n",
       "      <td>0.007735</td>\n",
       "    </tr>\n",
       "    <tr>\n",
       "      <th>Chicago</th>\n",
       "      <td>2.129628e+06</td>\n",
       "      <td>53.934221</td>\n",
       "      <td>0.013138</td>\n",
       "      <td>0.032564</td>\n",
       "      <td>0.000000</td>\n",
       "      <td>0.089797</td>\n",
       "      <td>0.000000</td>\n",
       "      <td>0.232090</td>\n",
       "      <td>0.085652</td>\n",
       "      <td>0.000000</td>\n",
       "      <td>0.196566</td>\n",
       "      <td>0.024077</td>\n",
       "    </tr>\n",
       "    <tr>\n",
       "      <th>Columbus</th>\n",
       "      <td>1.745516e+06</td>\n",
       "      <td>54.869870</td>\n",
       "      <td>0.020299</td>\n",
       "      <td>0.014003</td>\n",
       "      <td>0.000000</td>\n",
       "      <td>0.061806</td>\n",
       "      <td>0.000000</td>\n",
       "      <td>0.123129</td>\n",
       "      <td>0.000483</td>\n",
       "      <td>0.000000</td>\n",
       "      <td>0.044906</td>\n",
       "      <td>0.008209</td>\n",
       "    </tr>\n",
       "    <tr>\n",
       "      <th>Dallas</th>\n",
       "      <td>1.261650e+06</td>\n",
       "      <td>67.432350</td>\n",
       "      <td>0.006077</td>\n",
       "      <td>0.009136</td>\n",
       "      <td>0.000382</td>\n",
       "      <td>0.102967</td>\n",
       "      <td>0.000235</td>\n",
       "      <td>0.089307</td>\n",
       "      <td>0.009313</td>\n",
       "      <td>0.000000</td>\n",
       "      <td>0.002350</td>\n",
       "      <td>0.003878</td>\n",
       "    </tr>\n",
       "    <tr>\n",
       "      <th>Houston</th>\n",
       "      <td>1.276591e+06</td>\n",
       "      <td>72.420120</td>\n",
       "      <td>0.007738</td>\n",
       "      <td>0.013867</td>\n",
       "      <td>0.000581</td>\n",
       "      <td>0.066088</td>\n",
       "      <td>0.013423</td>\n",
       "      <td>0.049933</td>\n",
       "      <td>0.010724</td>\n",
       "      <td>0.000000</td>\n",
       "      <td>0.005601</td>\n",
       "      <td>0.100857</td>\n",
       "    </tr>\n",
       "    <tr>\n",
       "      <th>Indianapolis</th>\n",
       "      <td>1.427292e+06</td>\n",
       "      <td>55.802610</td>\n",
       "      <td>0.010713</td>\n",
       "      <td>0.000803</td>\n",
       "      <td>0.000000</td>\n",
       "      <td>0.027906</td>\n",
       "      <td>0.002409</td>\n",
       "      <td>0.151777</td>\n",
       "      <td>0.001606</td>\n",
       "      <td>0.000000</td>\n",
       "      <td>0.002811</td>\n",
       "      <td>0.001004</td>\n",
       "    </tr>\n",
       "    <tr>\n",
       "      <th>Jacksonville</th>\n",
       "      <td>1.362293e+06</td>\n",
       "      <td>70.097729</td>\n",
       "      <td>0.014678</td>\n",
       "      <td>0.002382</td>\n",
       "      <td>0.000238</td>\n",
       "      <td>0.059641</td>\n",
       "      <td>0.000556</td>\n",
       "      <td>0.157322</td>\n",
       "      <td>0.002621</td>\n",
       "      <td>0.000000</td>\n",
       "      <td>0.000874</td>\n",
       "      <td>0.000953</td>\n",
       "    </tr>\n",
       "    <tr>\n",
       "      <th>Los Angeles</th>\n",
       "      <td>1.528841e+06</td>\n",
       "      <td>64.725232</td>\n",
       "      <td>0.003835</td>\n",
       "      <td>0.015303</td>\n",
       "      <td>0.000258</td>\n",
       "      <td>0.056565</td>\n",
       "      <td>0.000155</td>\n",
       "      <td>0.114336</td>\n",
       "      <td>0.018350</td>\n",
       "      <td>0.000069</td>\n",
       "      <td>0.044326</td>\n",
       "      <td>0.022568</td>\n",
       "    </tr>\n",
       "    <tr>\n",
       "      <th>New York</th>\n",
       "      <td>1.366461e+06</td>\n",
       "      <td>56.923575</td>\n",
       "      <td>0.052624</td>\n",
       "      <td>0.106289</td>\n",
       "      <td>0.000919</td>\n",
       "      <td>0.156307</td>\n",
       "      <td>0.000368</td>\n",
       "      <td>0.216256</td>\n",
       "      <td>0.022067</td>\n",
       "      <td>0.000000</td>\n",
       "      <td>0.045421</td>\n",
       "      <td>0.020044</td>\n",
       "    </tr>\n",
       "    <tr>\n",
       "      <th>Philadelphia</th>\n",
       "      <td>1.344328e+06</td>\n",
       "      <td>55.192686</td>\n",
       "      <td>0.008424</td>\n",
       "      <td>0.011932</td>\n",
       "      <td>0.000775</td>\n",
       "      <td>0.171703</td>\n",
       "      <td>0.002944</td>\n",
       "      <td>0.193088</td>\n",
       "      <td>0.036262</td>\n",
       "      <td>0.000000</td>\n",
       "      <td>0.011158</td>\n",
       "      <td>0.017976</td>\n",
       "    </tr>\n",
       "    <tr>\n",
       "      <th>Phoenix</th>\n",
       "      <td>1.419212e+06</td>\n",
       "      <td>76.671784</td>\n",
       "      <td>0.001831</td>\n",
       "      <td>0.028148</td>\n",
       "      <td>0.005720</td>\n",
       "      <td>0.264093</td>\n",
       "      <td>0.001882</td>\n",
       "      <td>0.080154</td>\n",
       "      <td>0.014450</td>\n",
       "      <td>0.000000</td>\n",
       "      <td>0.031610</td>\n",
       "      <td>0.071950</td>\n",
       "    </tr>\n",
       "    <tr>\n",
       "      <th>San Antonio</th>\n",
       "      <td>1.407856e+06</td>\n",
       "      <td>71.790478</td>\n",
       "      <td>0.008214</td>\n",
       "      <td>0.000730</td>\n",
       "      <td>0.000000</td>\n",
       "      <td>0.012039</td>\n",
       "      <td>0.003283</td>\n",
       "      <td>0.188617</td>\n",
       "      <td>0.005290</td>\n",
       "      <td>0.000000</td>\n",
       "      <td>0.001459</td>\n",
       "      <td>0.000912</td>\n",
       "    </tr>\n",
       "    <tr>\n",
       "      <th>San Diego</th>\n",
       "      <td>1.454557e+06</td>\n",
       "      <td>64.103183</td>\n",
       "      <td>0.005453</td>\n",
       "      <td>0.017096</td>\n",
       "      <td>0.000089</td>\n",
       "      <td>0.053201</td>\n",
       "      <td>0.000846</td>\n",
       "      <td>0.128484</td>\n",
       "      <td>0.005387</td>\n",
       "      <td>0.000000</td>\n",
       "      <td>0.042071</td>\n",
       "      <td>0.038020</td>\n",
       "    </tr>\n",
       "    <tr>\n",
       "      <th>San Francisco</th>\n",
       "      <td>1.651474e+06</td>\n",
       "      <td>59.635874</td>\n",
       "      <td>0.005870</td>\n",
       "      <td>0.076218</td>\n",
       "      <td>0.000000</td>\n",
       "      <td>0.130451</td>\n",
       "      <td>0.000366</td>\n",
       "      <td>0.209417</td>\n",
       "      <td>0.041224</td>\n",
       "      <td>0.000000</td>\n",
       "      <td>0.076951</td>\n",
       "      <td>0.058813</td>\n",
       "    </tr>\n",
       "    <tr>\n",
       "      <th>San Jose</th>\n",
       "      <td>1.720800e+06</td>\n",
       "      <td>61.280471</td>\n",
       "      <td>0.004875</td>\n",
       "      <td>0.007518</td>\n",
       "      <td>0.000981</td>\n",
       "      <td>0.105083</td>\n",
       "      <td>0.000163</td>\n",
       "      <td>0.141363</td>\n",
       "      <td>0.018630</td>\n",
       "      <td>0.000000</td>\n",
       "      <td>0.013237</td>\n",
       "      <td>0.005720</td>\n",
       "    </tr>\n",
       "  </tbody>\n",
       "</table>\n",
       "</div>"
      ],
      "text/plain": [
       "                 Unnamed: 0  Temperature(F)  Precipitation(in)   Amenity  \\\n",
       "City                                                                       \n",
       "Austin         1.245623e+06       70.777201           0.004066  0.056722   \n",
       "Chicago        2.129628e+06       53.934221           0.013138  0.032564   \n",
       "Columbus       1.745516e+06       54.869870           0.020299  0.014003   \n",
       "Dallas         1.261650e+06       67.432350           0.006077  0.009136   \n",
       "Houston        1.276591e+06       72.420120           0.007738  0.013867   \n",
       "Indianapolis   1.427292e+06       55.802610           0.010713  0.000803   \n",
       "Jacksonville   1.362293e+06       70.097729           0.014678  0.002382   \n",
       "Los Angeles    1.528841e+06       64.725232           0.003835  0.015303   \n",
       "New York       1.366461e+06       56.923575           0.052624  0.106289   \n",
       "Philadelphia   1.344328e+06       55.192686           0.008424  0.011932   \n",
       "Phoenix        1.419212e+06       76.671784           0.001831  0.028148   \n",
       "San Antonio    1.407856e+06       71.790478           0.008214  0.000730   \n",
       "San Diego      1.454557e+06       64.103183           0.005453  0.017096   \n",
       "San Francisco  1.651474e+06       59.635874           0.005870  0.076218   \n",
       "San Jose       1.720800e+06       61.280471           0.004875  0.007518   \n",
       "\n",
       "                   Bump  Crossing  Give_Way  Junction   Railway  Roundabout  \\\n",
       "City                                                                          \n",
       "Austin         0.001473  0.111234  0.004113  0.032781  0.002701    0.000368   \n",
       "Chicago        0.000000  0.089797  0.000000  0.232090  0.085652    0.000000   \n",
       "Columbus       0.000000  0.061806  0.000000  0.123129  0.000483    0.000000   \n",
       "Dallas         0.000382  0.102967  0.000235  0.089307  0.009313    0.000000   \n",
       "Houston        0.000581  0.066088  0.013423  0.049933  0.010724    0.000000   \n",
       "Indianapolis   0.000000  0.027906  0.002409  0.151777  0.001606    0.000000   \n",
       "Jacksonville   0.000238  0.059641  0.000556  0.157322  0.002621    0.000000   \n",
       "Los Angeles    0.000258  0.056565  0.000155  0.114336  0.018350    0.000069   \n",
       "New York       0.000919  0.156307  0.000368  0.216256  0.022067    0.000000   \n",
       "Philadelphia   0.000775  0.171703  0.002944  0.193088  0.036262    0.000000   \n",
       "Phoenix        0.005720  0.264093  0.001882  0.080154  0.014450    0.000000   \n",
       "San Antonio    0.000000  0.012039  0.003283  0.188617  0.005290    0.000000   \n",
       "San Diego      0.000089  0.053201  0.000846  0.128484  0.005387    0.000000   \n",
       "San Francisco  0.000000  0.130451  0.000366  0.209417  0.041224    0.000000   \n",
       "San Jose       0.000981  0.105083  0.000163  0.141363  0.018630    0.000000   \n",
       "\n",
       "                Station      Stop  \n",
       "City                               \n",
       "Austin         0.050215  0.007735  \n",
       "Chicago        0.196566  0.024077  \n",
       "Columbus       0.044906  0.008209  \n",
       "Dallas         0.002350  0.003878  \n",
       "Houston        0.005601  0.100857  \n",
       "Indianapolis   0.002811  0.001004  \n",
       "Jacksonville   0.000874  0.000953  \n",
       "Los Angeles    0.044326  0.022568  \n",
       "New York       0.045421  0.020044  \n",
       "Philadelphia   0.011158  0.017976  \n",
       "Phoenix        0.031610  0.071950  \n",
       "San Antonio    0.001459  0.000912  \n",
       "San Diego      0.042071  0.038020  \n",
       "San Francisco  0.076951  0.058813  \n",
       "San Jose       0.013237  0.005720  "
      ]
     },
     "execution_count": 105,
     "metadata": {},
     "output_type": "execute_result"
    }
   ],
   "source": [
    "precipitation = file.groupby('City').mean()\n",
    "precipitation"
   ]
  },
  {
   "cell_type": "markdown",
   "metadata": {},
   "source": [
    "**Scatter Plot 4: Precipitation/Accident Density**"
   ]
  },
  {
   "cell_type": "code",
   "execution_count": 106,
   "metadata": {},
   "outputs": [],
   "source": [
    "file_precip = pd.DataFrame(file.groupby('City')['Precipitation(in)'].mean()).reset_index()\n",
    "pop_stops2['Precipitation(in)'] = file_precip['Precipitation(in)']"
   ]
  },
  {
   "cell_type": "code",
   "execution_count": 107,
   "metadata": {},
   "outputs": [
    {
     "data": {
      "text/plain": [
       "Text(15.675000000000011, 0.5, 'Accidents/Square Mile')"
      ]
     },
     "execution_count": 107,
     "metadata": {},
     "output_type": "execute_result"
    },
    {
     "data": {
      "image/png": "[encoded data removed]",
      "text/plain": [
       "<Figure size 360x360 with 1 Axes>"
      ]
     },
     "metadata": {
      "needs_background": "light"
     },
     "output_type": "display_data"
    }
   ],
   "source": [
    "sns.lmplot(data = pop_stops2,x='Precipitation(in)', y='Accidents/Square Mile')\n",
    "plt.title('Accident Density/ Average Precipitation')\n",
    "plt.xlabel('Average Precipitation(in)')\n",
    "plt.ylabel('Accidents/Square Mile')"
   ]
  },
  {
   "cell_type": "markdown",
   "metadata": {},
   "source": [
    "The above plot depicts the relationship between precipitation and concentration of accidents. These data points are still relatively scattered and sparse, making it difficult to draw solid conclusions from the plot. However, it does somewhat show a general positive trend if we don’t take some of the outliers into consideration. This also makes sense since slippery roads are more difficult to drive on, leading to more collisions.\n",
    "\n",
    "**Note:** It is possible that the weather could play a more influential role than it may seem thus far as a confounding variable. In the original dataset, there exists a Weather_Condition variable that records inputs like “Light Rain,” and “Heavy Snow” which we could categorize further and find proper correlation. Compared to temperature and precipitation, we believe that we will find more significant relationships between harsher categorized weather conditions and accidents in major cities.\n",
    "\n",
    "**Linear Regression Model 3: Accident Density/Average Precipitation**"
   ]
  },
  {
   "cell_type": "code",
   "execution_count": 108,
   "metadata": {},
   "outputs": [
    {
     "name": "stdout",
     "output_type": "stream",
     "text": [
      "                                  OLS Regression Results                                  \n",
      "==========================================================================================\n",
      "Dep. Variable:     Accidents/Square Mile   R-squared (uncentered):                   0.466\n",
      "Model:                               OLS   Adj. R-squared (uncentered):              0.428\n",
      "Method:                    Least Squares   F-statistic:                              12.21\n",
      "Date:                   Thu, 08 Dec 2022   Prob (F-statistic):                     0.00358\n",
      "Time:                           17:43:57   Log-Likelihood:                         -78.085\n",
      "No. Observations:                     15   AIC:                                      158.2\n",
      "Df Residuals:                         14   BIC:                                      158.9\n",
      "Df Model:                              1                                                  \n",
      "Covariance Type:               nonrobust                                                  \n",
      "=====================================================================================\n",
      "                        coef    std err          t      P>|t|      [0.025      0.975]\n",
      "-------------------------------------------------------------------------------------\n",
      "Precipitation(in)  2509.1311    718.213      3.494      0.004     968.718    4049.544\n",
      "==============================================================================\n",
      "Omnibus:                        1.935   Durbin-Watson:                   2.500\n",
      "Prob(Omnibus):                  0.380   Jarque-Bera (JB):                1.369\n",
      "Skew:                           0.706   Prob(JB):                        0.504\n",
      "Kurtosis:                       2.556   Cond. No.                         1.00\n",
      "==============================================================================\n",
      "\n",
      "Notes:\n",
      "[1] R² is computed without centering (uncentered) since the model does not contain a constant.\n",
      "[2] Standard Errors assume that the covariance matrix of the errors is correctly specified.\n"
     ]
    },
    {
     "name": "stderr",
     "output_type": "stream",
     "text": [
      "c:\\Users\\sasha\\anaconda3\\lib\\site-packages\\scipy\\stats\\stats.py:1541: UserWarning: kurtosistest only valid for n>=20 ... continuing anyway, n=15\n",
      "  warnings.warn(\"kurtosistest only valid for n>=20 ... continuing \"\n"
     ]
    }
   ],
   "source": [
    "Y=pop_stops2['Accidents/Square Mile']\n",
    "X=pop_stops2['Precipitation(in)']\n",
    "model = sm.OLS(Y,X)\n",
    "results = model.fit()\n",
    "print(results.summary())"
   ]
  },
  {
   "cell_type": "markdown",
   "metadata": {},
   "source": [
    "Though the standard error is large (718.2), it is small relative to the effect size (2509.1). The p-value is very small (0.004), which means the probability of the correlation occurring by chance is very small. This linear model shows that there is a significant relationship between average precipitation and accident density and proves that precipitation is a valid confound in our analysis of the effect of bus stop density on accident frequency. Our interpretation of this result is that more precipitation causes more hazardous driving conditions, so the accident density is higher in cities with greater average precipitation. \n",
    "\n",
    "**Scatter Plot 5: Precipitation/Accident Count**"
   ]
  },
  {
   "cell_type": "code",
   "execution_count": 109,
   "metadata": {},
   "outputs": [
    {
     "data": {
      "text/plain": [
       "(0.0, 0.07)"
      ]
     },
     "execution_count": 109,
     "metadata": {},
     "output_type": "execute_result"
    },
    {
     "data": {
      "image/png": "[encoded data removed]",
      "text/plain": [
       "<Figure size 360x360 with 1 Axes>"
      ]
     },
     "metadata": {
      "needs_background": "light"
     },
     "output_type": "display_data"
    }
   ],
   "source": [
    "sns.lmplot(data = pop_stops2,x='Precipitation(in)', y='Accident Count')\n",
    "plt.title('Accident Count/ Average Precipitation')\n",
    "plt.xlabel('Average Precipitation(in)')\n",
    "plt.ylabel('Accident Count')\n",
    "plt.xlim(0, 0.07)"
   ]
  },
  {
   "cell_type": "markdown",
   "metadata": {},
   "source": [
    "In this line plot, we look at the relationship between precipitation and our original dependent variable of accident count rather than accident density. Similar to our plot using accident density, our data points are scattered, but there is a general positive correlation.\n",
    "\n",
    "**Linear Regression Model 4: Accident Count/Average Precipitation**"
   ]
  },
  {
   "cell_type": "code",
   "execution_count": 110,
   "metadata": {},
   "outputs": [
    {
     "name": "stdout",
     "output_type": "stream",
     "text": [
      "                                 OLS Regression Results                                \n",
      "=======================================================================================\n",
      "Dep. Variable:         Accident Count   R-squared (uncentered):                   0.438\n",
      "Model:                            OLS   Adj. R-squared (uncentered):              0.397\n",
      "Method:                 Least Squares   F-statistic:                              10.89\n",
      "Date:                Thu, 08 Dec 2022   Prob (F-statistic):                     0.00526\n",
      "Time:                        17:43:57   Log-Likelihood:                         -166.37\n",
      "No. Observations:                  15   AIC:                                      334.7\n",
      "Df Residuals:                      14   BIC:                                      335.4\n",
      "Df Model:                           1                                                  \n",
      "Covariance Type:            nonrobust                                                  \n",
      "=====================================================================================\n",
      "                        coef    std err          t      P>|t|      [0.025      0.975]\n",
      "-------------------------------------------------------------------------------------\n",
      "Precipitation(in)  8.528e+05   2.58e+05      3.300      0.005    2.99e+05    1.41e+06\n",
      "==============================================================================\n",
      "Omnibus:                        9.667   Durbin-Watson:                   2.464\n",
      "Prob(Omnibus):                  0.008   Jarque-Bera (JB):                5.909\n",
      "Skew:                           1.345   Prob(JB):                       0.0521\n",
      "Kurtosis:                       4.490   Cond. No.                         1.00\n",
      "==============================================================================\n",
      "\n",
      "Notes:\n",
      "[1] R² is computed without centering (uncentered) since the model does not contain a constant.\n",
      "[2] Standard Errors assume that the covariance matrix of the errors is correctly specified.\n"
     ]
    },
    {
     "name": "stderr",
     "output_type": "stream",
     "text": [
      "c:\\Users\\sasha\\anaconda3\\lib\\site-packages\\scipy\\stats\\stats.py:1541: UserWarning: kurtosistest only valid for n>=20 ... continuing anyway, n=15\n",
      "  warnings.warn(\"kurtosistest only valid for n>=20 ... continuing \"\n"
     ]
    }
   ],
   "source": [
    "Y=pop_stops2['Accident Count']\n",
    "X=pop_stops2['Precipitation(in)']\n",
    "model = sm.OLS(Y,X)\n",
    "results = model.fit()\n",
    "print(results.summary())"
   ]
  },
  {
   "cell_type": "markdown",
   "metadata": {},
   "source": [
    "The standard error seems very large (2.58e5), it is valid relative to the effect size (8.528e5). The p-value is very small (0.005), which means the probability of the correlation occurring by chance is very small. This linear model shows that there is a significant relationship between average precipitation and accident count and proves that precipitation is a valid confounding factor. Our real-world interpretation of this result is that more precipitation creates a more hazardous driving setting, so the accident concentration would be higher in cities with more precipitation. \n",
    "\n",
    "#### Confounding Factor #3: Proximity to Infrastructure\n",
    "\n",
    "Another confounding factor that we thought may affect the number of accidents throughout the 15 major cities was looking into if the accident that occurred was in close proximity (tenth of a mile) to one of the following three infrastructures; Crossing, Junction, or a Stop Sign. These infrastructures tend to be locations where vehicles must change directions or change speed quickly compared to other locations so there could be a higher rate of accidents. In the U.S. accidents dataset that we pulled, each accident also had data determining “True” or “False” whether the accident was in close relation to one of these infrastructures. We predict that there may not be that significant of an influence on the number of accidents in relation to their close proximity to one of the three infrastructures. This is especially due to the greater impact that the other variables we considered would make.\n",
    "\n",
    "**Triple Bar Plot 3: Proximity to Infrastructure (Crossing, Junction, Stop)**"
   ]
  },
  {
   "cell_type": "code",
   "execution_count": 111,
   "metadata": {},
   "outputs": [
    {
     "data": {
      "text/plain": [
       "Text(0.5, 0, 'City')"
      ]
     },
     "execution_count": 111,
     "metadata": {},
     "output_type": "execute_result"
    },
    {
     "data": {
      "image/png": "[encoded data removed]",
      "text/plain": [
       "<Figure size 432x288 with 1 Axes>"
      ]
     },
     "metadata": {
      "needs_background": "light"
     },
     "output_type": "display_data"
    }
   ],
   "source": [
    "f = pd.DataFrame(file.groupby('City').mean())\n",
    "f[['Crossing', 'Junction', 'Stop']].plot(kind='bar')\n",
    "plt.xticks(rotation=45)\n",
    "plt.ylabel('Proportion of Accidents Near Infrastructures')\n",
    "plt.title('Proportion of Accidents Near Infrastructures Per City')\n",
    "plt.xlabel('City')"
   ]
  },
  {
   "cell_type": "markdown",
   "metadata": {},
   "source": [
    "The above plot represents every city's number of accidents if they were close to one of the three infrastructures, divided by the total number of accidents that occurred in the city. In the bar plot we notice that most of the accidents ratios are all lower then 25% therefore letting us infer that many accidents did not occur close to any single one of the infrastructures. Therefore this lines up with our initial assumption that these infrastructures cannot be a strong identifier for the amount of accidents that occur. However in relation to every single city itself we did notice that there was a significantly higher ratio of accidents that were close to Junctions in relation to any other infrastructure. It was interesting to find that there was an outlier in Phoenix where there was a drastic increase in accidents that occurred close to crossings."
   ]
  },
  {
   "cell_type": "markdown",
   "metadata": {},
   "source": [
    "# Ethics & Privacy"
   ]
  },
  {
   "cell_type": "markdown",
   "metadata": {},
   "source": [
    "The proposed question involves a comparison between the number of bus stops within a city and the frequency of car crashes involved within their respective areas. The possible ethical shortcomings can be found in the confounding variables and factors that can ultimately skew data in different cities based on exterior factors not involving the main variables and observations being measured. The public transport system is a resource funded by grants, state and local governments, and collected revenues, where more impoverished areas could have less access or may remain unaffordable to residents. Given this information, the stated hypothesis and data collection necessary to make any conclusions about this matter faces no ethical turbulence. Any data gathered is accessed from public websites with no bias and no privacy issues, considering this is a dataset addressing large areas with no personal information involved. This project aims to be as equitable as possible when gathering data before forming any sort of analysis, taking into account the possible population bias, differing landscapes, and population density variance of dissimilar cities being compared."
   ]
  },
  {
   "cell_type": "markdown",
   "metadata": {},
   "source": [
    "# Conclusion & Discussion"
   ]
  },
  {
   "cell_type": "markdown",
   "metadata": {},
   "source": [
    "In this data science project, we aimed to assess the relationship between the use of public transportation (bus stops) and car accidents in metropolitan cities in the United States. Not only did we assess the impact of bus stops, but we also took into consideration other factors relating to accident likelihood including weather conditions, population density, and proximity to infrastructure. Prior to conducting our research, we hypothesized that with an increase of accessibility and use of the bus system (i.e. more bus stops), there would be a decrease in the rate of the collisions in the area for metropolitan cities. The logic behind this is that there will be less individuals driving, leading to less cars on the road, and without as much congestion, the streets would be overall safer. As a result, we hypothesized that the relationship between accident count and bus stop frequency was inversely proportional. By assessing the impact of public transportation, more specifically bus stops, we hoped to highlight a potential relationship between the factors of influence on accident concentrations in metropolitan cities.\n",
    "\n",
    "Simply plotting the counts of accidents and bus stops per city did not give us as clear of a relationship as we had originally hypothesized. Therefore, we had to look into other analytical methods to draw statistically significant comparisons. Based on our data gathered from performing a linear regression on the relationship between bus stop density and accident count, we conclude that an increase in bus stop density causes a decrease in the number of accidents within a major US city. The indicated p-value means that we should reject the null hypothesis, given that the results are technically statistically significant. The R2 value produced is reflective of our data’s reliance on human interaction, given that human-based studies are less predictable. The simple social and cultural differences between cities, such as Houston and Los Angeles, and other confounding variables in our gathered data hinders this predictability we can gather from reading our R2 value since they could also play significant roles with car collision likelihood, limiting what we can conclude from it. From this, we can say our hypothesis was relatively conclusive when analyzing this relationship between accident count and bus stop density, but the analysis didn’t produce very statistically significant output. The general indication was that cities with a higher bus stop density tended to have a proportionally lower accident concentration.\n",
    "\n",
    "Since we weren’t necessarily able to derive a concrete relationship strictly off of the bus stop frequencies, we looked into alternative factors of influence. Before we even began our analysis, we knew that population density could be one of the more influential outside variables since more people in an area means more congestion, leading to more traffic and accidents. Running a linear regression model on it showed significant relationship between population density and accident count with a small p-value and significant effect size. We can confirm that we had the correct assumption as a greater population density means more concentrated traffic on the roads, leading to more accidents. The second confounding factor we considered was proximity to infrastructure, which we did not believe to have too strong of an influence, but could still be valuable to include. After plotting the proportions of accidents that occurred near infrastructure, we saw that for every city, the proportion was less than 25%, aligning with out original assumption. The last confounding factor we considered was weather, particularly precipitation, which we hypothesized to be significantly influential to accident rates. Despite the constraint of a low sample size (15 cities), the linear regression for precipitation yielded the strongest correlation with a considerably small p-value of 0.004 and the highest level of predictability from the R2 value, 46.5%. This makes sense since we are dealing with human-dependent data points and precipitation is known to be highly influential when it comes to accident rates. \n",
    "\n",
    "Overall, our work has progressed our understanding of how a data science project can be completed from start to finish. It was very interesting to research the association between bus stop concentrations and accident likelihood, while taking into consideration additional confounding factors like weather, population density, and proximity to infrastructure. As society continues to develop, inquiries like this are necessary to find unique correlations that affect day to day lives and create educated, innovative responses. We know that our findings may have some limitations, but are hopeful that we were able to produce some distinctive insights.\n",
    " \n",
    "**Data Limitations**\n",
    "\n",
    "Looking back at the project, we realized that we were significantly limiting the accuracy of our models and statistical outputs with the small sample size used. We thought that the sheer number of points in the US Accidents data set would provide more concrete statistical outputs. Finding an accurate number of bus stops per city proved to be quite difficult, which is why we settled on only analyzing the major metropolitan cities. Even then, it would have been better to include a larger sample of cities to accommodate further. Considering that our dataset was a human-based study, it would have been beneficial to incorporate more data to account for the unpredictability of humans.\n"
   ]
  },
  {
   "cell_type": "markdown",
   "metadata": {},
   "source": [
    "# Team Contributions"
   ]
  },
  {
   "cell_type": "markdown",
   "metadata": {},
   "source": [
    "- Alexander Kourjanski: Data Cleaning, EDA, Statistical Analysis, Github, Confounding Factors, Video\n",
    "- Nadine Marcus: Webscrape, EDA, Plot Generation, Statistical Analysis, Confounding Factors, Video\n",
    "- Sean Bianes: Background, Data Cleaning, EDA, Inferential Analysis, Ethics & Privacy,Video\n",
    "- Seung Kang: Background, EDA, Linear Regression Analysis, Ethics & Privacy, Video\n",
    "- Shasta Subramanian: Data Cleaning, EDA, Inferential Analysis, Confounding Factors, Github, Video\n"
   ]
  },
  {
   "cell_type": "markdown",
   "metadata": {},
   "source": []
  }
 ],
 "metadata": {
  "kernelspec": {
   "display_name": "Python 3.9.12 ('base')",
   "language": "python",
   "name": "python3"
  },
  "language_info": {
   "codemirror_mode": {
    "name": "ipython",
    "version": 3
   },
   "file_extension": ".py",
   "mimetype": "text/x-python",
   "name": "python",
   "nbconvert_exporter": "python",
   "pygments_lexer": "ipython3",
   "version": "3.9.12"
  },
  "vscode": {
   "interpreter": {
    "hash": "61582a2b21c6ded58499e0e70ad98823dc5c79760af704d98dd4a17654987531"
   }
  }
 },
 "nbformat": 4,
 "nbformat_minor": 2
}
